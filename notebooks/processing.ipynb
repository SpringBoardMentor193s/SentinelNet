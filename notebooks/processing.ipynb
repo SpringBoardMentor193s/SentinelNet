{
 "cells": [
  {
   "cell_type": "code",
   "execution_count": 5,
   "id": "e643cca8",
   "metadata": {},
   "outputs": [
    {
     "name": "stdout",
     "output_type": "stream",
     "text": [
      "(22545, 43)\n",
      "  0     1         2     3        4     5    6    7    8    9   ...    33  \\\n",
      "0  0   tcp   private   REJ      0.0   0.0  0.0  0.0  0.0  0.0  ...  0.04   \n",
      "1  0   tcp   private   REJ      0.0   0.0  0.0  0.0  0.0  0.0  ...  0.00   \n",
      "2  2   tcp  ftp_data    SF  12983.0   0.0  0.0  0.0  0.0  0.0  ...  0.61   \n",
      "3  0  icmp     eco_i    SF     20.0   0.0  0.0  0.0  0.0  0.0  ...  1.00   \n",
      "4  1   tcp    telnet  RSTO      0.0  15.0  0.0  0.0  0.0  0.0  ...  0.31   \n",
      "\n",
      "     34    35    36   37   38    39    40       41    42  \n",
      "0  0.06  0.00  0.00  0.0  0.0  1.00  1.00  neptune  21.0  \n",
      "1  0.06  0.00  0.00  0.0  0.0  1.00  1.00  neptune  21.0  \n",
      "2  0.04  0.61  0.02  0.0  0.0  0.00  0.00   normal  21.0  \n",
      "3  0.00  1.00  0.28  0.0  0.0  0.00  0.00    saint  15.0  \n",
      "4  0.17  0.03  0.02  0.0  0.0  0.83  0.71    mscan  11.0  \n",
      "\n",
      "[5 rows x 43 columns]\n"
     ]
    }
   ],
   "source": [
    "import pandas as pd\n",
    "import numpy as np\n",
    "import matplotlib.pyplot as plt\n",
    "\n",
    "file_path = r\"C:\\Users\\Hp\\OneDrive\\Documents\\Desktop\\web\\SentinelNet\\data\\NSL-KDD\\KDDTest+.txt\"\n",
    "\n",
    "\n",
    "df = pd.read_csv(file_path, header=None,low_memory=False)\n",
    "\n",
    "\n",
    "print(df.shape)\n",
    "print(df.head())\n"
   ]
  },
  {
   "cell_type": "code",
   "execution_count": 6,
   "id": "b92a3032",
   "metadata": {},
   "outputs": [
    {
     "data": {
      "text/html": [
       "<div>\n",
       "<style scoped>\n",
       "    .dataframe tbody tr th:only-of-type {\n",
       "        vertical-align: middle;\n",
       "    }\n",
       "\n",
       "    .dataframe tbody tr th {\n",
       "        vertical-align: top;\n",
       "    }\n",
       "\n",
       "    .dataframe thead th {\n",
       "        text-align: right;\n",
       "    }\n",
       "</style>\n",
       "<table border=\"1\" class=\"dataframe\">\n",
       "  <thead>\n",
       "    <tr style=\"text-align: right;\">\n",
       "      <th></th>\n",
       "      <th>duration</th>\n",
       "      <th>protocol_type</th>\n",
       "      <th>service</th>\n",
       "      <th>flag</th>\n",
       "      <th>src_bytes</th>\n",
       "      <th>dst_bytes</th>\n",
       "      <th>land</th>\n",
       "      <th>wrong_fragment</th>\n",
       "      <th>urgent</th>\n",
       "      <th>hot</th>\n",
       "      <th>...</th>\n",
       "      <th>dst_host_same_srv_rate</th>\n",
       "      <th>dst_host_diff_srv_rate</th>\n",
       "      <th>dst_host_same_src_port_rate</th>\n",
       "      <th>dst_host_srv_diff_host_rate</th>\n",
       "      <th>dst_host_serror_rate</th>\n",
       "      <th>dst_host_srv_serror_rate</th>\n",
       "      <th>dst_host_rerror_rate</th>\n",
       "      <th>dst_host_srv_rerror_rate</th>\n",
       "      <th>label</th>\n",
       "      <th>difficulty</th>\n",
       "    </tr>\n",
       "  </thead>\n",
       "  <tbody>\n",
       "    <tr>\n",
       "      <th>0</th>\n",
       "      <td>0</td>\n",
       "      <td>tcp</td>\n",
       "      <td>private</td>\n",
       "      <td>REJ</td>\n",
       "      <td>0.0</td>\n",
       "      <td>0.0</td>\n",
       "      <td>0.0</td>\n",
       "      <td>0.0</td>\n",
       "      <td>0.0</td>\n",
       "      <td>0.0</td>\n",
       "      <td>...</td>\n",
       "      <td>0.04</td>\n",
       "      <td>0.06</td>\n",
       "      <td>0.00</td>\n",
       "      <td>0.00</td>\n",
       "      <td>0.0</td>\n",
       "      <td>0.0</td>\n",
       "      <td>1.00</td>\n",
       "      <td>1.00</td>\n",
       "      <td>neptune</td>\n",
       "      <td>21.0</td>\n",
       "    </tr>\n",
       "    <tr>\n",
       "      <th>1</th>\n",
       "      <td>0</td>\n",
       "      <td>tcp</td>\n",
       "      <td>private</td>\n",
       "      <td>REJ</td>\n",
       "      <td>0.0</td>\n",
       "      <td>0.0</td>\n",
       "      <td>0.0</td>\n",
       "      <td>0.0</td>\n",
       "      <td>0.0</td>\n",
       "      <td>0.0</td>\n",
       "      <td>...</td>\n",
       "      <td>0.00</td>\n",
       "      <td>0.06</td>\n",
       "      <td>0.00</td>\n",
       "      <td>0.00</td>\n",
       "      <td>0.0</td>\n",
       "      <td>0.0</td>\n",
       "      <td>1.00</td>\n",
       "      <td>1.00</td>\n",
       "      <td>neptune</td>\n",
       "      <td>21.0</td>\n",
       "    </tr>\n",
       "    <tr>\n",
       "      <th>2</th>\n",
       "      <td>2</td>\n",
       "      <td>tcp</td>\n",
       "      <td>ftp_data</td>\n",
       "      <td>SF</td>\n",
       "      <td>12983.0</td>\n",
       "      <td>0.0</td>\n",
       "      <td>0.0</td>\n",
       "      <td>0.0</td>\n",
       "      <td>0.0</td>\n",
       "      <td>0.0</td>\n",
       "      <td>...</td>\n",
       "      <td>0.61</td>\n",
       "      <td>0.04</td>\n",
       "      <td>0.61</td>\n",
       "      <td>0.02</td>\n",
       "      <td>0.0</td>\n",
       "      <td>0.0</td>\n",
       "      <td>0.00</td>\n",
       "      <td>0.00</td>\n",
       "      <td>normal</td>\n",
       "      <td>21.0</td>\n",
       "    </tr>\n",
       "    <tr>\n",
       "      <th>3</th>\n",
       "      <td>0</td>\n",
       "      <td>icmp</td>\n",
       "      <td>eco_i</td>\n",
       "      <td>SF</td>\n",
       "      <td>20.0</td>\n",
       "      <td>0.0</td>\n",
       "      <td>0.0</td>\n",
       "      <td>0.0</td>\n",
       "      <td>0.0</td>\n",
       "      <td>0.0</td>\n",
       "      <td>...</td>\n",
       "      <td>1.00</td>\n",
       "      <td>0.00</td>\n",
       "      <td>1.00</td>\n",
       "      <td>0.28</td>\n",
       "      <td>0.0</td>\n",
       "      <td>0.0</td>\n",
       "      <td>0.00</td>\n",
       "      <td>0.00</td>\n",
       "      <td>saint</td>\n",
       "      <td>15.0</td>\n",
       "    </tr>\n",
       "    <tr>\n",
       "      <th>4</th>\n",
       "      <td>1</td>\n",
       "      <td>tcp</td>\n",
       "      <td>telnet</td>\n",
       "      <td>RSTO</td>\n",
       "      <td>0.0</td>\n",
       "      <td>15.0</td>\n",
       "      <td>0.0</td>\n",
       "      <td>0.0</td>\n",
       "      <td>0.0</td>\n",
       "      <td>0.0</td>\n",
       "      <td>...</td>\n",
       "      <td>0.31</td>\n",
       "      <td>0.17</td>\n",
       "      <td>0.03</td>\n",
       "      <td>0.02</td>\n",
       "      <td>0.0</td>\n",
       "      <td>0.0</td>\n",
       "      <td>0.83</td>\n",
       "      <td>0.71</td>\n",
       "      <td>mscan</td>\n",
       "      <td>11.0</td>\n",
       "    </tr>\n",
       "  </tbody>\n",
       "</table>\n",
       "<p>5 rows × 43 columns</p>\n",
       "</div>"
      ],
      "text/plain": [
       "  duration protocol_type   service  flag  src_bytes  dst_bytes  land  \\\n",
       "0        0           tcp   private   REJ        0.0        0.0   0.0   \n",
       "1        0           tcp   private   REJ        0.0        0.0   0.0   \n",
       "2        2           tcp  ftp_data    SF    12983.0        0.0   0.0   \n",
       "3        0          icmp     eco_i    SF       20.0        0.0   0.0   \n",
       "4        1           tcp    telnet  RSTO        0.0       15.0   0.0   \n",
       "\n",
       "   wrong_fragment  urgent  hot  ...  dst_host_same_srv_rate  \\\n",
       "0             0.0     0.0  0.0  ...                    0.04   \n",
       "1             0.0     0.0  0.0  ...                    0.00   \n",
       "2             0.0     0.0  0.0  ...                    0.61   \n",
       "3             0.0     0.0  0.0  ...                    1.00   \n",
       "4             0.0     0.0  0.0  ...                    0.31   \n",
       "\n",
       "   dst_host_diff_srv_rate  dst_host_same_src_port_rate  \\\n",
       "0                    0.06                         0.00   \n",
       "1                    0.06                         0.00   \n",
       "2                    0.04                         0.61   \n",
       "3                    0.00                         1.00   \n",
       "4                    0.17                         0.03   \n",
       "\n",
       "   dst_host_srv_diff_host_rate  dst_host_serror_rate  \\\n",
       "0                         0.00                   0.0   \n",
       "1                         0.00                   0.0   \n",
       "2                         0.02                   0.0   \n",
       "3                         0.28                   0.0   \n",
       "4                         0.02                   0.0   \n",
       "\n",
       "   dst_host_srv_serror_rate  dst_host_rerror_rate  dst_host_srv_rerror_rate  \\\n",
       "0                       0.0                  1.00                      1.00   \n",
       "1                       0.0                  1.00                      1.00   \n",
       "2                       0.0                  0.00                      0.00   \n",
       "3                       0.0                  0.00                      0.00   \n",
       "4                       0.0                  0.83                      0.71   \n",
       "\n",
       "     label  difficulty  \n",
       "0  neptune        21.0  \n",
       "1  neptune        21.0  \n",
       "2   normal        21.0  \n",
       "3    saint        15.0  \n",
       "4    mscan        11.0  \n",
       "\n",
       "[5 rows x 43 columns]"
      ]
     },
     "execution_count": 6,
     "metadata": {},
     "output_type": "execute_result"
    }
   ],
   "source": [
    "columns = [\n",
    "    \"duration\",\"protocol_type\",\"service\",\"flag\",\"src_bytes\",\"dst_bytes\",\"land\",\"wrong_fragment\",\n",
    "    \"urgent\",\"hot\",\"num_failed_logins\",\"logged_in\",\"num_compromised\",\"root_shell\",\"su_attempted\",\n",
    "    \"num_root\",\"num_file_creations\",\"num_shells\",\"num_access_files\",\"num_outbound_cmds\",\"is_host_login\",\n",
    "    \"is_guest_login\",\"count\",\"srv_count\",\"serror_rate\",\"srv_serror_rate\",\"rerror_rate\",\"srv_rerror_rate\",\n",
    "    \"same_srv_rate\",\"diff_srv_rate\",\"srv_diff_host_rate\",\"dst_host_count\",\"dst_host_srv_count\",\n",
    "    \"dst_host_same_srv_rate\",\"dst_host_diff_srv_rate\",\"dst_host_same_src_port_rate\",\"dst_host_srv_diff_host_rate\",\n",
    "    \"dst_host_serror_rate\",\"dst_host_srv_serror_rate\",\"dst_host_rerror_rate\",\"dst_host_srv_rerror_rate\",\n",
    "    \"label\",\"difficulty\"\n",
    "]\n",
    "df.columns = columns\n",
    "df.head()\n"
   ]
  },
  {
   "cell_type": "code",
   "execution_count": 7,
   "id": "6043f3ae",
   "metadata": {},
   "outputs": [
    {
     "name": "stdout",
     "output_type": "stream",
     "text": [
      "22545\n"
     ]
    }
   ],
   "source": [
    "print(len(df))"
   ]
  },
  {
   "cell_type": "code",
   "execution_count": 8,
   "id": "d3b7c599",
   "metadata": {},
   "outputs": [
    {
     "name": "stdout",
     "output_type": "stream",
     "text": [
      "<class 'pandas.core.frame.DataFrame'>\n",
      "RangeIndex: 22545 entries, 0 to 22544\n",
      "Data columns (total 43 columns):\n",
      " #   Column                       Non-Null Count  Dtype  \n",
      "---  ------                       --------------  -----  \n",
      " 0   duration                     22545 non-null  object \n",
      " 1   protocol_type                22544 non-null  object \n",
      " 2   service                      22544 non-null  object \n",
      " 3   flag                         22544 non-null  object \n",
      " 4   src_bytes                    22544 non-null  float64\n",
      " 5   dst_bytes                    22544 non-null  float64\n",
      " 6   land                         22544 non-null  float64\n",
      " 7   wrong_fragment               22544 non-null  float64\n",
      " 8   urgent                       22544 non-null  float64\n",
      " 9   hot                          22544 non-null  float64\n",
      " 10  num_failed_logins            22544 non-null  float64\n",
      " 11  logged_in                    22544 non-null  float64\n",
      " 12  num_compromised              22544 non-null  float64\n",
      " 13  root_shell                   22544 non-null  float64\n",
      " 14  su_attempted                 22544 non-null  float64\n",
      " 15  num_root                     22544 non-null  float64\n",
      " 16  num_file_creations           22544 non-null  float64\n",
      " 17  num_shells                   22544 non-null  float64\n",
      " 18  num_access_files             22544 non-null  float64\n",
      " 19  num_outbound_cmds            22544 non-null  float64\n",
      " 20  is_host_login                22544 non-null  float64\n",
      " 21  is_guest_login               22544 non-null  float64\n",
      " 22  count                        22544 non-null  float64\n",
      " 23  srv_count                    22544 non-null  float64\n",
      " 24  serror_rate                  22544 non-null  float64\n",
      " 25  srv_serror_rate              22544 non-null  float64\n",
      " 26  rerror_rate                  22544 non-null  float64\n",
      " 27  srv_rerror_rate              22544 non-null  float64\n",
      " 28  same_srv_rate                22544 non-null  float64\n",
      " 29  diff_srv_rate                22544 non-null  float64\n",
      " 30  srv_diff_host_rate           22544 non-null  float64\n",
      " 31  dst_host_count               22544 non-null  float64\n",
      " 32  dst_host_srv_count           22544 non-null  float64\n",
      " 33  dst_host_same_srv_rate       22544 non-null  float64\n",
      " 34  dst_host_diff_srv_rate       22544 non-null  float64\n",
      " 35  dst_host_same_src_port_rate  22544 non-null  float64\n",
      " 36  dst_host_srv_diff_host_rate  22544 non-null  float64\n",
      " 37  dst_host_serror_rate         22544 non-null  float64\n",
      " 38  dst_host_srv_serror_rate     22544 non-null  float64\n",
      " 39  dst_host_rerror_rate         22544 non-null  float64\n",
      " 40  dst_host_srv_rerror_rate     22544 non-null  float64\n",
      " 41  label                        22544 non-null  object \n",
      " 42  difficulty                   22544 non-null  float64\n",
      "dtypes: float64(38), object(5)\n",
      "memory usage: 7.4+ MB\n"
     ]
    }
   ],
   "source": [
    "df.info()"
   ]
  },
  {
   "cell_type": "code",
   "execution_count": 9,
   "id": "1f2ffd74",
   "metadata": {},
   "outputs": [
    {
     "name": "stdout",
     "output_type": "stream",
     "text": [
      "Missing values:\n",
      " duration                       0\n",
      "protocol_type                  1\n",
      "service                        1\n",
      "flag                           1\n",
      "src_bytes                      1\n",
      "dst_bytes                      1\n",
      "land                           1\n",
      "wrong_fragment                 1\n",
      "urgent                         1\n",
      "hot                            1\n",
      "num_failed_logins              1\n",
      "logged_in                      1\n",
      "num_compromised                1\n",
      "root_shell                     1\n",
      "su_attempted                   1\n",
      "num_root                       1\n",
      "num_file_creations             1\n",
      "num_shells                     1\n",
      "num_access_files               1\n",
      "num_outbound_cmds              1\n",
      "is_host_login                  1\n",
      "is_guest_login                 1\n",
      "count                          1\n",
      "srv_count                      1\n",
      "serror_rate                    1\n",
      "srv_serror_rate                1\n",
      "rerror_rate                    1\n",
      "srv_rerror_rate                1\n",
      "same_srv_rate                  1\n",
      "diff_srv_rate                  1\n",
      "srv_diff_host_rate             1\n",
      "dst_host_count                 1\n",
      "dst_host_srv_count             1\n",
      "dst_host_same_srv_rate         1\n",
      "dst_host_diff_srv_rate         1\n",
      "dst_host_same_src_port_rate    1\n",
      "dst_host_srv_diff_host_rate    1\n",
      "dst_host_serror_rate           1\n",
      "dst_host_srv_serror_rate       1\n",
      "dst_host_rerror_rate           1\n",
      "dst_host_srv_rerror_rate       1\n",
      "label                          1\n",
      "difficulty                     1\n",
      "dtype: int64\n"
     ]
    }
   ],
   "source": [
    "#missing values and duplicates\n",
    "print(\"Missing values:\\n\", df.isnull().sum())"
   ]
  },
  {
   "cell_type": "code",
   "execution_count": 10,
   "id": "f3ed8fb4",
   "metadata": {},
   "outputs": [
    {
     "name": "stdout",
     "output_type": "stream",
     "text": [
      "Duplicate rows: 0\n"
     ]
    }
   ],
   "source": [
    "print(\"Duplicate rows:\", df.duplicated().sum())"
   ]
  },
  {
   "cell_type": "code",
   "execution_count": 12,
   "id": "b05a90ca",
   "metadata": {},
   "outputs": [
    {
     "name": "stdout",
     "output_type": "stream",
     "text": [
      "Number of rows: 22545\n"
     ]
    }
   ],
   "source": [
    "print(\"Number of rows:\", df.shape[0])"
   ]
  },
  {
   "cell_type": "code",
   "execution_count": 13,
   "id": "cb0e3474",
   "metadata": {},
   "outputs": [
    {
     "name": "stdout",
     "output_type": "stream",
     "text": [
      "Unique labels: 38\n"
     ]
    }
   ],
   "source": [
    "print(\"Unique labels:\", df['label'].nunique())"
   ]
  },
  {
   "cell_type": "code",
   "execution_count": 14,
   "id": "f4f072f8",
   "metadata": {},
   "outputs": [
    {
     "name": "stdout",
     "output_type": "stream",
     "text": [
      "Top 5 frequent attack types:\n",
      " normal          9711\n",
      "neptune         4657\n",
      "guess_passwd    1231\n",
      "mscan            996\n",
      "warezmaster      944\n",
      "Name: label, dtype: int64\n"
     ]
    }
   ],
   "source": [
    "print(\"Top 5 frequent attack types:\\n\", df['label'].value_counts().head(5))"
   ]
  },
  {
   "cell_type": "code",
   "execution_count": 31,
   "id": "656d4795",
   "metadata": {},
   "outputs": [
    {
     "data": {
      "image/png": "[encoded data removed]",
      "text/plain": [
       "<Figure size 720x360 with 1 Axes>"
      ]
     },
     "metadata": {
      "needs_background": "light"
     },
     "output_type": "display_data"
    }
   ],
   "source": [
    "\n",
    "attack = df['label'].value_counts()\n",
    "plt.figure(figsize=(10, 5))\n",
    "plt.bar(attack.index, attack.values, color='darkblue')\n",
    "plt.title('Attack Distribution', fontsize=20)\n",
    "plt.xlabel('Attack Type', fontsize=20)\n",
    "plt.ylabel('Count', fontsize=16)\n",
    "plt.xticks(rotation=45, ha='right')\n",
    "plt.show()\n"
   ]
  },
  {
   "cell_type": "code",
   "execution_count": null,
   "id": "58fee8d2",
   "metadata": {},
   "outputs": [],
   "source": []
  }
 ],
 "metadata": {
  "kernelspec": {
   "display_name": "Python 3 (ipykernel)",
   "language": "python",
   "name": "python3"
  },
  "language_info": {
   "codemirror_mode": {
    "name": "ipython",
    "version": 3
   },
   "file_extension": ".py",
   "mimetype": "text/x-python",
   "name": "python",
   "nbconvert_exporter": "python",
   "pygments_lexer": "ipython3",
   "version": "3.9.7"
  }
 },
 "nbformat": 4,
 "nbformat_minor": 5
}
