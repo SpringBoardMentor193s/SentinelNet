{
 "cells": [
  {
   "cell_type": "code",
   "execution_count": 1,
   "id": "9b70b0e9",
   "metadata": {},
   "outputs": [],
   "source": [
    "import pandas as pd\n",
    "import matplotlib.pyplot as plt"
   ]
  },
  {
   "cell_type": "markdown",
   "id": "d6802010",
   "metadata": {},
   "source": [
    "Load the Dataset"
   ]
  },
  {
   "cell_type": "code",
   "execution_count": 2,
   "id": "cdd71e51",
   "metadata": {},
   "outputs": [],
   "source": [
    "df = pd.read_csv(\"C:\\\\Users\\\\pm5cd\\\\Documents\\\\SentinelNet-AI\\\\SentinelNet\\\\data\\\\NSL-KDD\\\\KDDTrain+.txt\", header=None)\n",
    "cols= (['duration','protocol_type','service','flag','src_bytes','dst_bytes','land','wrong_fragment','urgent','hot'\n",
    ",'num_failed_logins','logged_in','num_compromised','root_shell','su_attempted','num_root','num_file_creations'\n",
    ",'num_shells','num_access_files','num_outbound_cmds','is_host_login','is_guest_login','count','srv_count','serror_rate'\n",
    ",'srv_serror_rate','rerror_rate','srv_rerror_rate','same_srv_rate','diff_srv_rate','srv_diff_host_rate','dst_host_count','dst_host_srv_count'\n",
    ",'dst_host_same_srv_rate','dst_host_diff_srv_rate','dst_host_same_src_port_rate','dst_host_srv_diff_host_rate','dst_host_serror_rate'\n",
    ",'dst_host_srv_serror_rate','dst_host_rerror_rate','dst_host_srv_rerror_rate','outcome','level'])\n",
    "df.columns = cols[:len(df.columns)]"
   ]
  },
  {
   "cell_type": "markdown",
   "id": "bd80735f",
   "metadata": {},
   "source": [
    "Summary statistics"
   ]
  },
  {
   "cell_type": "code",
   "execution_count": 3,
   "id": "0460f73b",
   "metadata": {},
   "outputs": [
    {
     "name": "stdout",
     "output_type": "stream",
     "text": [
      "Number of rows: 125973\n",
      "Unique labels: 22\n",
      "Top 5 frequent attack types:\n",
      " level\n",
      "21    62557\n",
      "18    20667\n",
      "20    19339\n",
      "19    10284\n",
      "15     3990\n",
      "Name: count, dtype: int64\n"
     ]
    }
   ],
   "source": [
    "print(\"Number of rows:\",len(df))\n",
    "print(\"Unique labels:\",df['level'].nunique())\n",
    "print(\"Top 5 frequent attack types:\\n\", df['level'].value_counts().head())"
   ]
  },
  {
   "cell_type": "markdown",
   "id": "ceffa4d7",
   "metadata": {},
   "source": [
    "Bar Chart ( Distribution of Attack )"
   ]
  },
  {
   "cell_type": "code",
   "execution_count": 4,
   "id": "a2fa7132",
   "metadata": {},
   "outputs": [
    {
     "data": {
      "image/png": "[encoded data removed]",
      "text/plain": [
       "<Figure size 1000x500 with 1 Axes>"
      ]
     },
     "metadata": {},
     "output_type": "display_data"
    }
   ],
   "source": [
    "df['level'].value_counts().plot(kind='bar',figsize=(10,5))\n",
    "plt.title(\"Distribution of Attack Types (NSL-KDD)\")\n",
    "plt.xlabel(\"Attack Type\")\n",
    "plt.ylabel(\"Frequency\")\n",
    "plt.show()"
   ]
  },
  {
   "cell_type": "markdown",
   "id": "4e47a3d9",
   "metadata": {},
   "source": [
    "Basic Inspection"
   ]
  },
  {
   "cell_type": "code",
   "execution_count": 5,
   "id": "ba5f875d",
   "metadata": {},
   "outputs": [
    {
     "name": "stdout",
     "output_type": "stream",
     "text": [
      "   duration protocol_type   service flag  src_bytes  dst_bytes  land  \\\n",
      "0         0           tcp  ftp_data   SF        491          0     0   \n",
      "1         0           udp     other   SF        146          0     0   \n",
      "2         0           tcp   private   S0          0          0     0   \n",
      "3         0           tcp      http   SF        232       8153     0   \n",
      "4         0           tcp      http   SF        199        420     0   \n",
      "\n",
      "   wrong_fragment  urgent  hot  ...  dst_host_same_srv_rate  \\\n",
      "0               0       0    0  ...                    0.17   \n",
      "1               0       0    0  ...                    0.00   \n",
      "2               0       0    0  ...                    0.10   \n",
      "3               0       0    0  ...                    1.00   \n",
      "4               0       0    0  ...                    1.00   \n",
      "\n",
      "   dst_host_diff_srv_rate  dst_host_same_src_port_rate  \\\n",
      "0                    0.03                         0.17   \n",
      "1                    0.60                         0.88   \n",
      "2                    0.05                         0.00   \n",
      "3                    0.00                         0.03   \n",
      "4                    0.00                         0.00   \n",
      "\n",
      "   dst_host_srv_diff_host_rate  dst_host_serror_rate  \\\n",
      "0                         0.00                  0.00   \n",
      "1                         0.00                  0.00   \n",
      "2                         0.00                  1.00   \n",
      "3                         0.04                  0.03   \n",
      "4                         0.00                  0.00   \n",
      "\n",
      "   dst_host_srv_serror_rate  dst_host_rerror_rate  dst_host_srv_rerror_rate  \\\n",
      "0                      0.00                  0.05                      0.00   \n",
      "1                      0.00                  0.00                      0.00   \n",
      "2                      1.00                  0.00                      0.00   \n",
      "3                      0.01                  0.00                      0.01   \n",
      "4                      0.00                  0.00                      0.00   \n",
      "\n",
      "   outcome  level  \n",
      "0   normal     20  \n",
      "1   normal     15  \n",
      "2  neptune     19  \n",
      "3   normal     21  \n",
      "4   normal     21  \n",
      "\n",
      "[5 rows x 43 columns]\n",
      "<class 'pandas.core.frame.DataFrame'>\n",
      "RangeIndex: 125973 entries, 0 to 125972\n",
      "Data columns (total 43 columns):\n",
      " #   Column                       Non-Null Count   Dtype  \n",
      "---  ------                       --------------   -----  \n",
      " 0   duration                     125973 non-null  int64  \n",
      " 1   protocol_type                125973 non-null  object \n",
      " 2   service                      125973 non-null  object \n",
      " 3   flag                         125973 non-null  object \n",
      " 4   src_bytes                    125973 non-null  int64  \n",
      " 5   dst_bytes                    125973 non-null  int64  \n",
      " 6   land                         125973 non-null  int64  \n",
      " 7   wrong_fragment               125973 non-null  int64  \n",
      " 8   urgent                       125973 non-null  int64  \n",
      " 9   hot                          125973 non-null  int64  \n",
      " 10  num_failed_logins            125973 non-null  int64  \n",
      " 11  logged_in                    125973 non-null  int64  \n",
      " 12  num_compromised              125973 non-null  int64  \n",
      " 13  root_shell                   125973 non-null  int64  \n",
      " 14  su_attempted                 125973 non-null  int64  \n",
      " 15  num_root                     125973 non-null  int64  \n",
      " 16  num_file_creations           125973 non-null  int64  \n",
      " 17  num_shells                   125973 non-null  int64  \n",
      " 18  num_access_files             125973 non-null  int64  \n",
      " 19  num_outbound_cmds            125973 non-null  int64  \n",
      " 20  is_host_login                125973 non-null  int64  \n",
      " 21  is_guest_login               125973 non-null  int64  \n",
      " 22  count                        125973 non-null  int64  \n",
      " 23  srv_count                    125973 non-null  int64  \n",
      " 24  serror_rate                  125973 non-null  float64\n",
      " 25  srv_serror_rate              125973 non-null  float64\n",
      " 26  rerror_rate                  125973 non-null  float64\n",
      " 27  srv_rerror_rate              125973 non-null  float64\n",
      " 28  same_srv_rate                125973 non-null  float64\n",
      " 29  diff_srv_rate                125973 non-null  float64\n",
      " 30  srv_diff_host_rate           125973 non-null  float64\n",
      " 31  dst_host_count               125973 non-null  int64  \n",
      " 32  dst_host_srv_count           125973 non-null  int64  \n",
      " 33  dst_host_same_srv_rate       125973 non-null  float64\n",
      " 34  dst_host_diff_srv_rate       125973 non-null  float64\n",
      " 35  dst_host_same_src_port_rate  125973 non-null  float64\n",
      " 36  dst_host_srv_diff_host_rate  125973 non-null  float64\n",
      " 37  dst_host_serror_rate         125973 non-null  float64\n",
      " 38  dst_host_srv_serror_rate     125973 non-null  float64\n",
      " 39  dst_host_rerror_rate         125973 non-null  float64\n",
      " 40  dst_host_srv_rerror_rate     125973 non-null  float64\n",
      " 41  outcome                      125973 non-null  object \n",
      " 42  level                        125973 non-null  int64  \n",
      "dtypes: float64(15), int64(24), object(4)\n",
      "memory usage: 41.3+ MB\n",
      "None\n",
      "           duration     src_bytes     dst_bytes           land  \\\n",
      "count  125973.00000  1.259730e+05  1.259730e+05  125973.000000   \n",
      "mean      287.14465  4.556674e+04  1.977911e+04       0.000198   \n",
      "std      2604.51531  5.870331e+06  4.021269e+06       0.014086   \n",
      "min         0.00000  0.000000e+00  0.000000e+00       0.000000   \n",
      "25%         0.00000  0.000000e+00  0.000000e+00       0.000000   \n",
      "50%         0.00000  4.400000e+01  0.000000e+00       0.000000   \n",
      "75%         0.00000  2.760000e+02  5.160000e+02       0.000000   \n",
      "max     42908.00000  1.379964e+09  1.309937e+09       1.000000   \n",
      "\n",
      "       wrong_fragment         urgent            hot  num_failed_logins  \\\n",
      "count   125973.000000  125973.000000  125973.000000      125973.000000   \n",
      "mean         0.022687       0.000111       0.204409           0.001222   \n",
      "std          0.253530       0.014366       2.149968           0.045239   \n",
      "min          0.000000       0.000000       0.000000           0.000000   \n",
      "25%          0.000000       0.000000       0.000000           0.000000   \n",
      "50%          0.000000       0.000000       0.000000           0.000000   \n",
      "75%          0.000000       0.000000       0.000000           0.000000   \n",
      "max          3.000000       3.000000      77.000000           5.000000   \n",
      "\n",
      "           logged_in  num_compromised  ...  dst_host_srv_count  \\\n",
      "count  125973.000000    125973.000000  ...       125973.000000   \n",
      "mean        0.395736         0.279250  ...          115.653005   \n",
      "std         0.489010        23.942042  ...          110.702741   \n",
      "min         0.000000         0.000000  ...            0.000000   \n",
      "25%         0.000000         0.000000  ...           10.000000   \n",
      "50%         0.000000         0.000000  ...           63.000000   \n",
      "75%         1.000000         0.000000  ...          255.000000   \n",
      "max         1.000000      7479.000000  ...          255.000000   \n",
      "\n",
      "       dst_host_same_srv_rate  dst_host_diff_srv_rate  \\\n",
      "count           125973.000000           125973.000000   \n",
      "mean                 0.521242                0.082951   \n",
      "std                  0.448949                0.188922   \n",
      "min                  0.000000                0.000000   \n",
      "25%                  0.050000                0.000000   \n",
      "50%                  0.510000                0.020000   \n",
      "75%                  1.000000                0.070000   \n",
      "max                  1.000000                1.000000   \n",
      "\n",
      "       dst_host_same_src_port_rate  dst_host_srv_diff_host_rate  \\\n",
      "count                125973.000000                125973.000000   \n",
      "mean                      0.148379                     0.032542   \n",
      "std                       0.308997                     0.112564   \n",
      "min                       0.000000                     0.000000   \n",
      "25%                       0.000000                     0.000000   \n",
      "50%                       0.000000                     0.000000   \n",
      "75%                       0.060000                     0.020000   \n",
      "max                       1.000000                     1.000000   \n",
      "\n",
      "       dst_host_serror_rate  dst_host_srv_serror_rate  dst_host_rerror_rate  \\\n",
      "count         125973.000000             125973.000000         125973.000000   \n",
      "mean               0.284452                  0.278485              0.118832   \n",
      "std                0.444784                  0.445669              0.306557   \n",
      "min                0.000000                  0.000000              0.000000   \n",
      "25%                0.000000                  0.000000              0.000000   \n",
      "50%                0.000000                  0.000000              0.000000   \n",
      "75%                1.000000                  1.000000              0.000000   \n",
      "max                1.000000                  1.000000              1.000000   \n",
      "\n",
      "       dst_host_srv_rerror_rate          level  \n",
      "count             125973.000000  125973.000000  \n",
      "mean                   0.120240      19.504060  \n",
      "std                    0.319459       2.291503  \n",
      "min                    0.000000       0.000000  \n",
      "25%                    0.000000      18.000000  \n",
      "50%                    0.000000      20.000000  \n",
      "75%                    0.000000      21.000000  \n",
      "max                    1.000000      21.000000  \n",
      "\n",
      "[8 rows x 39 columns]\n"
     ]
    }
   ],
   "source": [
    "print(df.head())\n",
    "print(df.info())\n",
    "print(df.describe())"
   ]
  }
 ],
 "metadata": {
  "kernelspec": {
   "display_name": "Python (tf_env)",
   "language": "python",
   "name": "tf_env"
  },
  "language_info": {
   "codemirror_mode": {
    "name": "ipython",
    "version": 3
   },
   "file_extension": ".py",
   "mimetype": "text/x-python",
   "name": "python",
   "nbconvert_exporter": "python",
   "pygments_lexer": "ipython3",
   "version": "3.10.18"
  }
 },
 "nbformat": 4,
 "nbformat_minor": 5
}
