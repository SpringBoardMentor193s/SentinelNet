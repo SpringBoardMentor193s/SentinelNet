{
 "cells": [
  {
   "cell_type": "markdown",
   "id": "36066cb5",
   "metadata": {},
   "source": [
    "Import Modules"
   ]
  },
  {
   "cell_type": "code",
   "execution_count": 1,
   "id": "9b70b0e9",
   "metadata": {},
   "outputs": [],
   "source": [
    "import pandas as pd\n",
    "import matplotlib.pyplot as plt\n",
    "import IPython.display as display\n",
    "from sklearn.preprocessing import MinMaxScaler\n"
   ]
  },
  {
   "cell_type": "markdown",
   "id": "d6802010",
   "metadata": {},
   "source": [
    "Load the Dataset"
   ]
  },
  {
   "cell_type": "code",
   "execution_count": 2,
   "id": "cdd71e51",
   "metadata": {},
   "outputs": [],
   "source": [
    "df = pd.read_csv(\"C:\\\\Users\\\\pm5cd\\\\Documents\\\\SentinelNet-AI\\\\SentinelNet\\\\data\\\\NSL-KDD\\\\KDDTrain+.txt\", header=None)\n",
    "cols= (['duration','protocol_type','service','flag','src_bytes','dst_bytes','land','wrong_fragment','urgent','hot'\n",
    ",'num_failed_logins','logged_in','num_compromised','root_shell','su_attempted','num_root','num_file_creations'\n",
    ",'num_shells','num_access_files','num_outbound_cmds','is_host_login','is_guest_login','count','srv_count','serror_rate'\n",
    ",'srv_serror_rate','rerror_rate','srv_rerror_rate','same_srv_rate','diff_srv_rate','srv_diff_host_rate','dst_host_count','dst_host_srv_count'\n",
    ",'dst_host_same_srv_rate','dst_host_diff_srv_rate','dst_host_same_src_port_rate','dst_host_srv_diff_host_rate','dst_host_serror_rate'\n",
    ",'dst_host_srv_serror_rate','dst_host_rerror_rate','dst_host_srv_rerror_rate','outcome','level'])\n",
    "df.columns = cols[:len(df.columns)]"
   ]
  },
  {
   "cell_type": "markdown",
   "id": "bd80735f",
   "metadata": {},
   "source": [
    "Summary statistics"
   ]
  },
  {
   "cell_type": "code",
   "execution_count": 3,
   "id": "0460f73b",
   "metadata": {},
   "outputs": [
    {
     "name": "stdout",
     "output_type": "stream",
     "text": [
      "Number of rows: 125973\n",
      "Unique labels: 22\n",
      "Top 5 frequent attack types:\n",
      " level\n",
      "21    62557\n",
      "18    20667\n",
      "20    19339\n",
      "19    10284\n",
      "15     3990\n",
      "Name: count, dtype: int64\n"
     ]
    }
   ],
   "source": [
    "print(\"Number of rows:\",len(df))\n",
    "print(\"Unique labels:\",df['level'].nunique())\n",
    "print(\"Top 5 frequent attack types:\\n\", df['level'].value_counts().head())"
   ]
  },
  {
   "cell_type": "markdown",
   "id": "ceffa4d7",
   "metadata": {},
   "source": [
    "Bar Chart ( Distribution of Attack )"
   ]
  },
  {
   "cell_type": "code",
   "execution_count": 4,
   "id": "a2fa7132",
   "metadata": {},
   "outputs": [
    {
     "data": {
      "image/png": "[encoded data removed]",
      "text/plain": [
       "<Figure size 1000x500 with 1 Axes>"
      ]
     },
     "metadata": {},
     "output_type": "display_data"
    }
   ],
   "source": [
    "df['level'].value_counts().plot(kind='bar',figsize=(10,5))\n",
    "plt.title(\"Distribution of Attack Types (NSL-KDD)\")\n",
    "plt.xlabel(\"Attack Type\")\n",
    "plt.ylabel(\"Frequency\")\n",
    "plt.show()"
   ]
  },
  {
   "cell_type": "markdown",
   "id": "4e47a3d9",
   "metadata": {},
   "source": [
    "Basic Inspection"
   ]
  },
  {
   "cell_type": "code",
   "execution_count": 5,
   "id": "ba5f875d",
   "metadata": {},
   "outputs": [
    {
     "name": "stdout",
     "output_type": "stream",
     "text": [
      "   duration protocol_type   service flag  src_bytes  dst_bytes  land  \\\n",
      "0         0           tcp  ftp_data   SF        491          0     0   \n",
      "1         0           udp     other   SF        146          0     0   \n",
      "2         0           tcp   private   S0          0          0     0   \n",
      "3         0           tcp      http   SF        232       8153     0   \n",
      "4         0           tcp      http   SF        199        420     0   \n",
      "\n",
      "   wrong_fragment  urgent  hot  ...  dst_host_same_srv_rate  \\\n",
      "0               0       0    0  ...                    0.17   \n",
      "1               0       0    0  ...                    0.00   \n",
      "2               0       0    0  ...                    0.10   \n",
      "3               0       0    0  ...                    1.00   \n",
      "4               0       0    0  ...                    1.00   \n",
      "\n",
      "   dst_host_diff_srv_rate  dst_host_same_src_port_rate  \\\n",
      "0                    0.03                         0.17   \n",
      "1                    0.60                         0.88   \n",
      "2                    0.05                         0.00   \n",
      "3                    0.00                         0.03   \n",
      "4                    0.00                         0.00   \n",
      "\n",
      "   dst_host_srv_diff_host_rate  dst_host_serror_rate  \\\n",
      "0                         0.00                  0.00   \n",
      "1                         0.00                  0.00   \n",
      "2                         0.00                  1.00   \n",
      "3                         0.04                  0.03   \n",
      "4                         0.00                  0.00   \n",
      "\n",
      "   dst_host_srv_serror_rate  dst_host_rerror_rate  dst_host_srv_rerror_rate  \\\n",
      "0                      0.00                  0.05                      0.00   \n",
      "1                      0.00                  0.00                      0.00   \n",
      "2                      1.00                  0.00                      0.00   \n",
      "3                      0.01                  0.00                      0.01   \n",
      "4                      0.00                  0.00                      0.00   \n",
      "\n",
      "   outcome  level  \n",
      "0   normal     20  \n",
      "1   normal     15  \n",
      "2  neptune     19  \n",
      "3   normal     21  \n",
      "4   normal     21  \n",
      "\n",
      "[5 rows x 43 columns]\n",
      "<class 'pandas.core.frame.DataFrame'>\n",
      "RangeIndex: 125973 entries, 0 to 125972\n",
      "Data columns (total 43 columns):\n",
      " #   Column                       Non-Null Count   Dtype  \n",
      "---  ------                       --------------   -----  \n",
      " 0   duration                     125973 non-null  int64  \n",
      " 1   protocol_type                125973 non-null  object \n",
      " 2   service                      125973 non-null  object \n",
      " 3   flag                         125973 non-null  object \n",
      " 4   src_bytes                    125973 non-null  int64  \n",
      " 5   dst_bytes                    125973 non-null  int64  \n",
      " 6   land                         125973 non-null  int64  \n",
      " 7   wrong_fragment               125973 non-null  int64  \n",
      " 8   urgent                       125973 non-null  int64  \n",
      " 9   hot                          125973 non-null  int64  \n",
      " 10  num_failed_logins            125973 non-null  int64  \n",
      " 11  logged_in                    125973 non-null  int64  \n",
      " 12  num_compromised              125973 non-null  int64  \n",
      " 13  root_shell                   125973 non-null  int64  \n",
      " 14  su_attempted                 125973 non-null  int64  \n",
      " 15  num_root                     125973 non-null  int64  \n",
      " 16  num_file_creations           125973 non-null  int64  \n",
      " 17  num_shells                   125973 non-null  int64  \n",
      " 18  num_access_files             125973 non-null  int64  \n",
      " 19  num_outbound_cmds            125973 non-null  int64  \n",
      " 20  is_host_login                125973 non-null  int64  \n",
      " 21  is_guest_login               125973 non-null  int64  \n",
      " 22  count                        125973 non-null  int64  \n",
      " 23  srv_count                    125973 non-null  int64  \n",
      " 24  serror_rate                  125973 non-null  float64\n",
      " 25  srv_serror_rate              125973 non-null  float64\n",
      " 26  rerror_rate                  125973 non-null  float64\n",
      " 27  srv_rerror_rate              125973 non-null  float64\n",
      " 28  same_srv_rate                125973 non-null  float64\n",
      " 29  diff_srv_rate                125973 non-null  float64\n",
      " 30  srv_diff_host_rate           125973 non-null  float64\n",
      " 31  dst_host_count               125973 non-null  int64  \n",
      " 32  dst_host_srv_count           125973 non-null  int64  \n",
      " 33  dst_host_same_srv_rate       125973 non-null  float64\n",
      " 34  dst_host_diff_srv_rate       125973 non-null  float64\n",
      " 35  dst_host_same_src_port_rate  125973 non-null  float64\n",
      " 36  dst_host_srv_diff_host_rate  125973 non-null  float64\n",
      " 37  dst_host_serror_rate         125973 non-null  float64\n",
      " 38  dst_host_srv_serror_rate     125973 non-null  float64\n",
      " 39  dst_host_rerror_rate         125973 non-null  float64\n",
      " 40  dst_host_srv_rerror_rate     125973 non-null  float64\n",
      " 41  outcome                      125973 non-null  object \n",
      " 42  level                        125973 non-null  int64  \n",
      "dtypes: float64(15), int64(24), object(4)\n",
      "memory usage: 41.3+ MB\n",
      "None\n",
      "           duration     src_bytes     dst_bytes           land  \\\n",
      "count  125973.00000  1.259730e+05  1.259730e+05  125973.000000   \n",
      "mean      287.14465  4.556674e+04  1.977911e+04       0.000198   \n",
      "std      2604.51531  5.870331e+06  4.021269e+06       0.014086   \n",
      "min         0.00000  0.000000e+00  0.000000e+00       0.000000   \n",
      "25%         0.00000  0.000000e+00  0.000000e+00       0.000000   \n",
      "50%         0.00000  4.400000e+01  0.000000e+00       0.000000   \n",
      "75%         0.00000  2.760000e+02  5.160000e+02       0.000000   \n",
      "max     42908.00000  1.379964e+09  1.309937e+09       1.000000   \n",
      "\n",
      "       wrong_fragment         urgent            hot  num_failed_logins  \\\n",
      "count   125973.000000  125973.000000  125973.000000      125973.000000   \n",
      "mean         0.022687       0.000111       0.204409           0.001222   \n",
      "std          0.253530       0.014366       2.149968           0.045239   \n",
      "min          0.000000       0.000000       0.000000           0.000000   \n",
      "25%          0.000000       0.000000       0.000000           0.000000   \n",
      "50%          0.000000       0.000000       0.000000           0.000000   \n",
      "75%          0.000000       0.000000       0.000000           0.000000   \n",
      "max          3.000000       3.000000      77.000000           5.000000   \n",
      "\n",
      "           logged_in  num_compromised  ...  dst_host_srv_count  \\\n",
      "count  125973.000000    125973.000000  ...       125973.000000   \n",
      "mean        0.395736         0.279250  ...          115.653005   \n",
      "std         0.489010        23.942042  ...          110.702741   \n",
      "min         0.000000         0.000000  ...            0.000000   \n",
      "25%         0.000000         0.000000  ...           10.000000   \n",
      "50%         0.000000         0.000000  ...           63.000000   \n",
      "75%         1.000000         0.000000  ...          255.000000   \n",
      "max         1.000000      7479.000000  ...          255.000000   \n",
      "\n",
      "       dst_host_same_srv_rate  dst_host_diff_srv_rate  \\\n",
      "count           125973.000000           125973.000000   \n",
      "mean                 0.521242                0.082951   \n",
      "std                  0.448949                0.188922   \n",
      "min                  0.000000                0.000000   \n",
      "25%                  0.050000                0.000000   \n",
      "50%                  0.510000                0.020000   \n",
      "75%                  1.000000                0.070000   \n",
      "max                  1.000000                1.000000   \n",
      "\n",
      "       dst_host_same_src_port_rate  dst_host_srv_diff_host_rate  \\\n",
      "count                125973.000000                125973.000000   \n",
      "mean                      0.148379                     0.032542   \n",
      "std                       0.308997                     0.112564   \n",
      "min                       0.000000                     0.000000   \n",
      "25%                       0.000000                     0.000000   \n",
      "50%                       0.000000                     0.000000   \n",
      "75%                       0.060000                     0.020000   \n",
      "max                       1.000000                     1.000000   \n",
      "\n",
      "       dst_host_serror_rate  dst_host_srv_serror_rate  dst_host_rerror_rate  \\\n",
      "count         125973.000000             125973.000000         125973.000000   \n",
      "mean               0.284452                  0.278485              0.118832   \n",
      "std                0.444784                  0.445669              0.306557   \n",
      "min                0.000000                  0.000000              0.000000   \n",
      "25%                0.000000                  0.000000              0.000000   \n",
      "50%                0.000000                  0.000000              0.000000   \n",
      "75%                1.000000                  1.000000              0.000000   \n",
      "max                1.000000                  1.000000              1.000000   \n",
      "\n",
      "       dst_host_srv_rerror_rate          level  \n",
      "count             125973.000000  125973.000000  \n",
      "mean                   0.120240      19.504060  \n",
      "std                    0.319459       2.291503  \n",
      "min                    0.000000       0.000000  \n",
      "25%                    0.000000      18.000000  \n",
      "50%                    0.000000      20.000000  \n",
      "75%                    0.000000      21.000000  \n",
      "max                    1.000000      21.000000  \n",
      "\n",
      "[8 rows x 39 columns]\n"
     ]
    }
   ],
   "source": [
    "print(df.head())\n",
    "print(df.info())\n",
    "print(df.describe())"
   ]
  },
  {
   "cell_type": "markdown",
   "id": "9d40fd58",
   "metadata": {},
   "source": [
    "Exploring the Features Types"
   ]
  },
  {
   "cell_type": "code",
   "execution_count": 6,
   "id": "c91cbc5d",
   "metadata": {},
   "outputs": [
    {
     "name": "stdout",
     "output_type": "stream",
     "text": [
      "                             Feature    Type  unique_values\n",
      "duration                    duration   int64           2981\n",
      "protocol_type          protocol_type  object              3\n",
      "service                      service  object             70\n",
      "flag                            flag  object             11\n",
      "src_bytes                  src_bytes   int64           3341\n",
      "dst_bytes                  dst_bytes   int64           9326\n",
      "land                            land   int64              2\n",
      "wrong_fragment        wrong_fragment   int64              3\n",
      "urgent                        urgent   int64              4\n",
      "hot                              hot   int64             28\n",
      "num_failed_logins  num_failed_logins   int64              6\n",
      "logged_in                  logged_in   int64              2\n",
      "num_compromised      num_compromised   int64             88\n",
      "root_shell                root_shell   int64              2\n",
      "su_attempted            su_attempted   int64              3\n"
     ]
    }
   ],
   "source": [
    "overview=pd.DataFrame({\"Feature\":df.columns,\n",
    "                       \"Type\":df.dtypes,\n",
    "                       \"unique_values\":[df[c].nunique() for c in df.columns]\n",
    "})\n",
    "print(overview.head(15))"
   ]
  },
  {
   "cell_type": "markdown",
   "id": "df814b0f",
   "metadata": {},
   "source": [
    "Visualize Attack Type Distribution"
   ]
  },
  {
   "cell_type": "code",
   "execution_count": 7,
   "id": "3d556c39",
   "metadata": {},
   "outputs": [
    {
     "data": {
      "image/png": "[encoded data removed]",
      "text/plain": [
       "<Figure size 1200x600 with 1 Axes>"
      ]
     },
     "metadata": {},
     "output_type": "display_data"
    }
   ],
   "source": [
    "df['level'].value_counts().plot(kind='bar',figsize=(12,6))\n",
    "plt.title(\"Attack Type Distribution (NSL-KDD Train)\")\n",
    "plt.xlabel(\"Attack Type\")\n",
    "plt.ylabel(\"Frequency\")\n",
    "plt.show()"
   ]
  },
  {
   "cell_type": "markdown",
   "id": "bdf8aed0",
   "metadata": {},
   "source": [
    "Group Attacks into Catergories & Analyze Frequency"
   ]
  },
  {
   "cell_type": "code",
   "execution_count": 8,
   "id": "47357239",
   "metadata": {},
   "outputs": [
    {
     "data": {
      "image/png": "[encoded data removed]",
      "text/plain": [
       "<Figure size 800x500 with 1 Axes>"
      ]
     },
     "metadata": {},
     "output_type": "display_data"
    },
    {
     "name": "stdout",
     "output_type": "stream",
     "text": [
      "Category\n",
      "normal    0.534583\n",
      "DOS       0.364578\n",
      "PROBE     0.092528\n",
      "R2L       0.007899\n",
      "U2R       0.000413\n",
      "Name: proportion, dtype: float64\n"
     ]
    }
   ],
   "source": [
    "df['outcome'] = df['outcome'].astype(str).str.strip().str.lower().str.replace('.', '', regex=False)\n",
    "DOS = {'back','land','neptune','pod','smurf','teardrop','mailbomb','apache2','processtable','udpstorm'}\n",
    "PROBE = {'satan','ipsweep','nmap','portsweep','mscan','saint'}\n",
    "R2L = {'guess_passwd','ftp_write','imap','phf','multihop','warezmaster','warezclient','spy','xlock','xsnoop',\n",
    "       'snmpguess','snmpgetattack','httptunnel','sendmail','named'}\n",
    "U2R = {'buffer_overflow','loadmodule','perl','rootkit','sqlattack','xterm','ps'}\n",
    "\n",
    "def map_category(x):\n",
    "    if x == 'normal':\n",
    "        return 'normal'\n",
    "    elif x in DOS:\n",
    "        return 'DOS'\n",
    "    elif x in PROBE:\n",
    "        return 'PROBE'\n",
    "    elif x in R2L:\n",
    "        return 'R2L'\n",
    "    elif x in U2R:\n",
    "        return 'U2R'\n",
    "    else:\n",
    "        return 'May be other'\n",
    "df['Category'] = df['outcome'].apply(map_category)\n",
    "df['Category'].value_counts().plot(kind='bar',figsize=(8,5))\n",
    "plt.title(\"Attack Categories Distribution\")\n",
    "plt.xlabel(\"Category\")\n",
    "plt.ylabel(\"Count\")\n",
    "plt.show()\n",
    "print(df['Category'].value_counts(normalize=True))"
   ]
  },
  {
   "cell_type": "markdown",
   "id": "f957b294",
   "metadata": {},
   "source": [
    "Identify Catergorical vs Numerical features"
   ]
  },
  {
   "cell_type": "code",
   "execution_count": 9,
   "id": "89dc4e6a",
   "metadata": {},
   "outputs": [
    {
     "name": "stdout",
     "output_type": "stream",
     "text": [
      "Categorical features: ['protocol_type', 'service', 'flag']\n",
      "Binary features: ['land', 'logged_in', 'root_shell', 'su_attempted', 'is_host_login', 'is_guest_login']\n",
      "Numerical features (first 10): ['duration', 'src_bytes', 'dst_bytes', 'wrong_fragment', 'urgent', 'hot', 'num_failed_logins', 'num_compromised', 'num_root', 'num_file_creations']\n"
     ]
    }
   ],
   "source": [
    "categorical=[\"protocol_type\",\"service\",\"flag\"]\n",
    "binary=[\"land\",\"logged_in\",\"root_shell\",\"su_attempted\",\"is_host_login\",\"is_guest_login\"]\n",
    "numerical=[col for col in df.columns if col not in categorical+binary+['level']]\n",
    "print(\"Categorical features:\",categorical)\n",
    "print(\"Binary features:\",binary)\n",
    "print(\"Numerical features (first 10):\", numerical[:10])"
   ]
  },
  {
   "cell_type": "markdown",
   "id": "6a583d2d",
   "metadata": {},
   "source": [
    "Checking the dataset for missing values and duplicate entries"
   ]
  },
  {
   "cell_type": "code",
   "execution_count": 10,
   "id": "74ed59ab",
   "metadata": {},
   "outputs": [
    {
     "name": "stdout",
     "output_type": "stream",
     "text": [
      "Missing values per Column : \n",
      "duration                       0\n",
      "protocol_type                  0\n",
      "service                        0\n",
      "flag                           0\n",
      "src_bytes                      0\n",
      "dst_bytes                      0\n",
      "land                           0\n",
      "wrong_fragment                 0\n",
      "urgent                         0\n",
      "hot                            0\n",
      "num_failed_logins              0\n",
      "logged_in                      0\n",
      "num_compromised                0\n",
      "root_shell                     0\n",
      "su_attempted                   0\n",
      "num_root                       0\n",
      "num_file_creations             0\n",
      "num_shells                     0\n",
      "num_access_files               0\n",
      "num_outbound_cmds              0\n",
      "is_host_login                  0\n",
      "is_guest_login                 0\n",
      "count                          0\n",
      "srv_count                      0\n",
      "serror_rate                    0\n",
      "srv_serror_rate                0\n",
      "rerror_rate                    0\n",
      "srv_rerror_rate                0\n",
      "same_srv_rate                  0\n",
      "diff_srv_rate                  0\n",
      "srv_diff_host_rate             0\n",
      "dst_host_count                 0\n",
      "dst_host_srv_count             0\n",
      "dst_host_same_srv_rate         0\n",
      "dst_host_diff_srv_rate         0\n",
      "dst_host_same_src_port_rate    0\n",
      "dst_host_srv_diff_host_rate    0\n",
      "dst_host_serror_rate           0\n",
      "dst_host_srv_serror_rate       0\n",
      "dst_host_rerror_rate           0\n",
      "dst_host_srv_rerror_rate       0\n",
      "outcome                        0\n",
      "level                          0\n",
      "Category                       0\n",
      "dtype: int64\n",
      "\n",
      " Duplicate Rows : 0\n"
     ]
    }
   ],
   "source": [
    "print(\"Missing values per Column : \")\n",
    "print(df.isnull().sum())\n",
    "print(\"\\n Duplicate Rows :\", df.duplicated().sum())"
   ]
  },
  {
   "cell_type": "markdown",
   "id": "891c6ad0",
   "metadata": {},
   "source": [
    "### Creating Schema Mapping Table\n",
    "\n",
    "We will generate a table with :\n",
    "1. Feature Name\n",
    "2. Type (Categorical/Numerical/Binary)\n",
    "3. Suggested Preprocessing Action\n",
    "4. Semantic Category"
   ]
  },
  {
   "cell_type": "code",
   "execution_count": 11,
   "id": "74f47371",
   "metadata": {},
   "outputs": [
    {
     "data": {
      "text/html": [
       "<div>\n",
       "<style scoped>\n",
       "    .dataframe tbody tr th:only-of-type {\n",
       "        vertical-align: middle;\n",
       "    }\n",
       "\n",
       "    .dataframe tbody tr th {\n",
       "        vertical-align: top;\n",
       "    }\n",
       "\n",
       "    .dataframe thead th {\n",
       "        text-align: right;\n",
       "    }\n",
       "</style>\n",
       "<table border=\"1\" class=\"dataframe\">\n",
       "  <thead>\n",
       "    <tr style=\"text-align: right;\">\n",
       "      <th></th>\n",
       "      <th>Feature Name</th>\n",
       "      <th>Type</th>\n",
       "      <th>Preprocessing Action</th>\n",
       "      <th>Semantic Category</th>\n",
       "    </tr>\n",
       "  </thead>\n",
       "  <tbody>\n",
       "    <tr>\n",
       "      <th>0</th>\n",
       "      <td>duration</td>\n",
       "      <td>Numerical</td>\n",
       "      <td>Normalize/Standardize</td>\n",
       "      <td>Traffic/Statistical</td>\n",
       "    </tr>\n",
       "    <tr>\n",
       "      <th>1</th>\n",
       "      <td>protocol_type</td>\n",
       "      <td>Categorical</td>\n",
       "      <td>One-Hot Encode</td>\n",
       "      <td>Network/Connection</td>\n",
       "    </tr>\n",
       "    <tr>\n",
       "      <th>2</th>\n",
       "      <td>service</td>\n",
       "      <td>Categorical</td>\n",
       "      <td>One-Hot Encode</td>\n",
       "      <td>Network/Connection</td>\n",
       "    </tr>\n",
       "    <tr>\n",
       "      <th>3</th>\n",
       "      <td>flag</td>\n",
       "      <td>Categorical</td>\n",
       "      <td>One-Hot Encode</td>\n",
       "      <td>Network/Connection</td>\n",
       "    </tr>\n",
       "    <tr>\n",
       "      <th>4</th>\n",
       "      <td>src_bytes</td>\n",
       "      <td>Numerical</td>\n",
       "      <td>Normalize/Standardize</td>\n",
       "      <td>Traffic/Statistical</td>\n",
       "    </tr>\n",
       "    <tr>\n",
       "      <th>5</th>\n",
       "      <td>dst_bytes</td>\n",
       "      <td>Numerical</td>\n",
       "      <td>Normalize/Standardize</td>\n",
       "      <td>Traffic/Statistical</td>\n",
       "    </tr>\n",
       "    <tr>\n",
       "      <th>6</th>\n",
       "      <td>land</td>\n",
       "      <td>Binary</td>\n",
       "      <td>Keep as-is</td>\n",
       "      <td>Behavior/Privilege</td>\n",
       "    </tr>\n",
       "    <tr>\n",
       "      <th>7</th>\n",
       "      <td>wrong_fragment</td>\n",
       "      <td>Numerical</td>\n",
       "      <td>Normalize/Standardize</td>\n",
       "      <td>Traffic/Statistical</td>\n",
       "    </tr>\n",
       "    <tr>\n",
       "      <th>8</th>\n",
       "      <td>urgent</td>\n",
       "      <td>Numerical</td>\n",
       "      <td>Normalize/Standardize</td>\n",
       "      <td>Traffic/Statistical</td>\n",
       "    </tr>\n",
       "    <tr>\n",
       "      <th>9</th>\n",
       "      <td>hot</td>\n",
       "      <td>Numerical</td>\n",
       "      <td>Normalize/Standardize</td>\n",
       "      <td>Traffic/Statistical</td>\n",
       "    </tr>\n",
       "    <tr>\n",
       "      <th>10</th>\n",
       "      <td>num_failed_logins</td>\n",
       "      <td>Numerical</td>\n",
       "      <td>Normalize/Standardize</td>\n",
       "      <td>Traffic/Statistical</td>\n",
       "    </tr>\n",
       "    <tr>\n",
       "      <th>11</th>\n",
       "      <td>logged_in</td>\n",
       "      <td>Binary</td>\n",
       "      <td>Keep as-is</td>\n",
       "      <td>Behavior/Privilege</td>\n",
       "    </tr>\n",
       "    <tr>\n",
       "      <th>12</th>\n",
       "      <td>num_compromised</td>\n",
       "      <td>Numerical</td>\n",
       "      <td>Normalize/Standardize</td>\n",
       "      <td>Traffic/Statistical</td>\n",
       "    </tr>\n",
       "    <tr>\n",
       "      <th>13</th>\n",
       "      <td>root_shell</td>\n",
       "      <td>Binary</td>\n",
       "      <td>Keep as-is</td>\n",
       "      <td>Behavior/Privilege</td>\n",
       "    </tr>\n",
       "    <tr>\n",
       "      <th>14</th>\n",
       "      <td>su_attempted</td>\n",
       "      <td>Binary</td>\n",
       "      <td>Keep as-is</td>\n",
       "      <td>Behavior/Privilege</td>\n",
       "    </tr>\n",
       "  </tbody>\n",
       "</table>\n",
       "</div>"
      ],
      "text/plain": [
       "         Feature Name         Type   Preprocessing Action    Semantic Category\n",
       "0            duration    Numerical  Normalize/Standardize  Traffic/Statistical\n",
       "1       protocol_type  Categorical         One-Hot Encode   Network/Connection\n",
       "2             service  Categorical         One-Hot Encode   Network/Connection\n",
       "3                flag  Categorical         One-Hot Encode   Network/Connection\n",
       "4           src_bytes    Numerical  Normalize/Standardize  Traffic/Statistical\n",
       "5           dst_bytes    Numerical  Normalize/Standardize  Traffic/Statistical\n",
       "6                land       Binary             Keep as-is   Behavior/Privilege\n",
       "7      wrong_fragment    Numerical  Normalize/Standardize  Traffic/Statistical\n",
       "8              urgent    Numerical  Normalize/Standardize  Traffic/Statistical\n",
       "9                 hot    Numerical  Normalize/Standardize  Traffic/Statistical\n",
       "10  num_failed_logins    Numerical  Normalize/Standardize  Traffic/Statistical\n",
       "11          logged_in       Binary             Keep as-is   Behavior/Privilege\n",
       "12    num_compromised    Numerical  Normalize/Standardize  Traffic/Statistical\n",
       "13         root_shell       Binary             Keep as-is   Behavior/Privilege\n",
       "14       su_attempted       Binary             Keep as-is   Behavior/Privilege"
      ]
     },
     "metadata": {},
     "output_type": "display_data"
    }
   ],
   "source": [
    "schema=[]\n",
    "for col in df.columns:\n",
    "    if col in categorical:\n",
    "        schema.append([col, \"Categorical\", \"One-Hot Encode\", \"Network/Connection\"])\n",
    "    elif col in binary:\n",
    "        schema.append([col, \"Binary\", \"Keep as-is\", \"Behavior/Privilege\"])\n",
    "    elif col == \"level\":\n",
    "        schema.append([col, \"Target\", \"Map to Attack/Normal\", \"Class Level\"])\n",
    "    else:\n",
    "        schema.append([col, \"Numerical\", \"Normalize/Standardize\", \"Traffic/Statistical\"])\n",
    "schema_df = pd.DataFrame(schema, columns=[\"Feature Name\", \"Type\", \"Preprocessing Action\", \"Semantic Category\"])\n",
    "display.display(schema_df.head(15))"
   ]
  },
  {
   "cell_type": "markdown",
   "id": "dbf9549c",
   "metadata": {},
   "source": [
    "Compare NSL-KDD Schema with CICIDS2017 Metadata"
   ]
  },
  {
   "cell_type": "code",
   "execution_count": 12,
   "id": "b0c6bdbc",
   "metadata": {},
   "outputs": [
    {
     "name": "stdout",
     "output_type": "stream",
     "text": [
      "\n",
      "CICIDS2017 Features: [' Destination Port', ' Flow Duration', ' Total Fwd Packets', ' Total Backward Packets', 'Total Length of Fwd Packets', ' Total Length of Bwd Packets', ' Fwd Packet Length Max', ' Fwd Packet Length Min', ' Fwd Packet Length Mean', ' Fwd Packet Length Std', 'Bwd Packet Length Max', ' Bwd Packet Length Min', ' Bwd Packet Length Mean', ' Bwd Packet Length Std', 'Flow Bytes/s']\n",
      "NSL-KDD Features: ['duration', 'protocol_type', 'service', 'flag', 'src_bytes', 'dst_bytes', 'land', 'wrong_fragment', 'urgent', 'hot', 'num_failed_logins', 'logged_in', 'num_compromised', 'root_shell', 'su_attempted']\n",
      "\n",
      "NSL-KDD has 43 features (excluding level)\n",
      "\n",
      "CICIDS2017 has 78 features (excluding level)\n",
      "\n",
      "Overlapping Features: None\n"
     ]
    }
   ],
   "source": [
    "cicids=pd.read_csv(\"C:\\\\Users\\\\pm5cd\\\\Documents\\\\SentinelNet-AI\\\\SentinelNet\\\\data\\\\CICIDS2017\\\\Friday-WorkingHours-Afternoon-DDos.pcap_ISCX.csv\")\n",
    "print(\"\\nCICIDS2017 Features:\",list(cicids.columns)[:15])\n",
    "print(\"NSL-KDD Features:\",list(df.columns)[:15])\n",
    "print(f\"\\nNSL-KDD has {len(df.columns)-1} features (excluding level)\")\n",
    "print(f\"\\nCICIDS2017 has {len(cicids.columns)-1} features (excluding level)\")\n",
    "overlap=set(df.columns).intersection(set(cicids.columns))\n",
    "print(\"\\nOverlapping Features:\",overlap if overlap else \"None\")\n"
   ]
  },
  {
   "cell_type": "markdown",
   "id": "3813df5d",
   "metadata": {},
   "source": [
    "Identifying and Handling Duplicate and Missing Values and removing the duplicate rows"
   ]
  },
  {
   "cell_type": "code",
   "execution_count": 13,
   "id": "db918a82",
   "metadata": {},
   "outputs": [
    {
     "name": "stdout",
     "output_type": "stream",
     "text": [
      "Missing Values per column: \n",
      " duration                       0\n",
      "protocol_type                  0\n",
      "service                        0\n",
      "flag                           0\n",
      "src_bytes                      0\n",
      "dst_bytes                      0\n",
      "land                           0\n",
      "wrong_fragment                 0\n",
      "urgent                         0\n",
      "hot                            0\n",
      "num_failed_logins              0\n",
      "logged_in                      0\n",
      "num_compromised                0\n",
      "root_shell                     0\n",
      "su_attempted                   0\n",
      "num_root                       0\n",
      "num_file_creations             0\n",
      "num_shells                     0\n",
      "num_access_files               0\n",
      "num_outbound_cmds              0\n",
      "is_host_login                  0\n",
      "is_guest_login                 0\n",
      "count                          0\n",
      "srv_count                      0\n",
      "serror_rate                    0\n",
      "srv_serror_rate                0\n",
      "rerror_rate                    0\n",
      "srv_rerror_rate                0\n",
      "same_srv_rate                  0\n",
      "diff_srv_rate                  0\n",
      "srv_diff_host_rate             0\n",
      "dst_host_count                 0\n",
      "dst_host_srv_count             0\n",
      "dst_host_same_srv_rate         0\n",
      "dst_host_diff_srv_rate         0\n",
      "dst_host_same_src_port_rate    0\n",
      "dst_host_srv_diff_host_rate    0\n",
      "dst_host_serror_rate           0\n",
      "dst_host_srv_serror_rate       0\n",
      "dst_host_rerror_rate           0\n",
      "dst_host_srv_rerror_rate       0\n",
      "outcome                        0\n",
      "level                          0\n",
      "Category                       0\n",
      "dtype: int64\n",
      "Duplicate Rows:  0\n",
      "Shape after removing duplicates: (125973, 44)\n"
     ]
    }
   ],
   "source": [
    "print(\"Missing Values per column: \\n\",df.isnull().sum())\n",
    "print(\"Duplicate Rows: \",df.duplicated().sum())\n",
    "df=df.drop_duplicates()\n",
    "print(\"Shape after removing duplicates:\",df.shape)"
   ]
  },
  {
   "cell_type": "markdown",
   "id": "0bf8cdd3",
   "metadata": {},
   "source": [
    "Encode Categorical Features"
   ]
  },
  {
   "cell_type": "code",
   "execution_count": 14,
   "id": "4f62abbc",
   "metadata": {},
   "outputs": [
    {
     "name": "stdout",
     "output_type": "stream",
     "text": [
      "Columns after encoding: 125\n"
     ]
    }
   ],
   "source": [
    "categorical_features=[\"protocol_type\", \"service\", \"flag\"]\n",
    "df_encoded = pd.get_dummies(df, columns=categorical_features)\n",
    "print(\"Columns after encoding:\", df_encoded.shape[1])"
   ]
  },
  {
   "cell_type": "markdown",
   "id": "a8f8298e",
   "metadata": {},
   "source": [
    "Scale Numerical Features"
   ]
  },
  {
   "cell_type": "code",
   "execution_count": 15,
   "id": "3f24bb33",
   "metadata": {},
   "outputs": [
    {
     "name": "stdout",
     "output_type": "stream",
     "text": [
      "Scaling completed. Shape: (125973, 125)\n",
      "Simple preprocessing complete. Dataset shape: (125973, 44)\n"
     ]
    }
   ],
   "source": [
    "numeric_cols = df_encoded.select_dtypes(include=['int64', 'float64']).columns.tolist()\n",
    "binary_features = [\"land\",\"logged_in\",\"root_shell\",\"su_attempted\",\"is_host_login\",\"is_guest_login\"]\n",
    "numeric_cols = [col for col in numeric_cols if col not in categorical_features+binary_features+[\"level\"]]\n",
    "scaler = MinMaxScaler()\n",
    "df_encoded[numeric_cols] = scaler.fit_transform(df_encoded[numeric_cols])\n",
    "print(\"Scaling completed. Shape:\", df_encoded.shape)\n",
    "print(\"Simple preprocessing complete. Dataset shape:\", df.shape)\n",
    "\n"
   ]
  }
 ],
 "metadata": {
  "kernelspec": {
   "display_name": "Python (tf_env)",
   "language": "python",
   "name": "tf_env"
  },
  "language_info": {
   "codemirror_mode": {
    "name": "ipython",
    "version": 3
   },
   "file_extension": ".py",
   "mimetype": "text/x-python",
   "name": "python",
   "nbconvert_exporter": "python",
   "pygments_lexer": "ipython3",
   "version": "3.10.18"
  }
 },
 "nbformat": 4,
 "nbformat_minor": 5
}
