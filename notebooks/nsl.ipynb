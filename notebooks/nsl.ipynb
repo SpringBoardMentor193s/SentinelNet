{
 "cells": [
  {
   "cell_type": "code",
   "execution_count": 54,
   "id": "8d574749",
   "metadata": {},
   "outputs": [],
   "source": [
    "import pandas as pd\n",
    "import matplotlib.pyplot as plt\n",
    "from sklearn.preprocessing import MinMaxScaler"
   ]
  },
  {
   "cell_type": "code",
   "execution_count": 55,
   "id": "66888221",
   "metadata": {},
   "outputs": [],
   "source": [
    "columns=[\n",
    "    'duration','protocol_type','service','flag','src_bytes','dst_bytes','land','wrong_fragment','urgent','hot',\n",
    "    'num_failed_logins','logged_in','num_compromised','root_shell','su_attempted','num_root','num_file_creations',\n",
    "    'num_shells','num_access_files','num_outbound_cmds','is_host_login','is_guest_login','count','srv_count',\n",
    "    'serror_rate','srv_serror_rate','rerror_rate','srv_rerror_rate','same_srv_rate','diff_srv_rate',\n",
    "    'srv_diff_host_rate','dst_host_count','dst_host_srv_count','dst_host_same_srv_rate','dst_host_diff_srv_rate',\n",
    "    'dst_host_same_src_port_rate','dst_host_srv_diff_host_rate','dst_host_serror_rate','dst_host_srv_serror_rate',\n",
    "    'dst_host_rerror_rate','dst_host_srv_rerror_rate','outcome','level'\n",
    "]\n"
   ]
  },
  {
   "cell_type": "code",
   "execution_count": 56,
   "id": "710de4d2",
   "metadata": {},
   "outputs": [],
   "source": [
    "# Load dataset\n",
    "data = pd.read_csv('../data/KDDTrain+.csv', names=columns)"
   ]
  },
  {
   "cell_type": "code",
   "execution_count": 57,
   "id": "a0c887c8",
   "metadata": {},
   "outputs": [
    {
     "name": "stdout",
     "output_type": "stream",
     "text": [
      "   duration protocol_type   service flag  src_bytes  dst_bytes  land  \\\n",
      "0         0           tcp  ftp_data   SF        491          0     0   \n",
      "1         0           udp     other   SF        146          0     0   \n",
      "2         0           tcp   private   S0          0          0     0   \n",
      "3         0           tcp      http   SF        232       8153     0   \n",
      "4         0           tcp      http   SF        199        420     0   \n",
      "\n",
      "   wrong_fragment  urgent  hot  ...  dst_host_same_srv_rate  \\\n",
      "0               0       0    0  ...                    0.17   \n",
      "1               0       0    0  ...                    0.00   \n",
      "2               0       0    0  ...                    0.10   \n",
      "3               0       0    0  ...                    1.00   \n",
      "4               0       0    0  ...                    1.00   \n",
      "\n",
      "   dst_host_diff_srv_rate  dst_host_same_src_port_rate  \\\n",
      "0                    0.03                         0.17   \n",
      "1                    0.60                         0.88   \n",
      "2                    0.05                         0.00   \n",
      "3                    0.00                         0.03   \n",
      "4                    0.00                         0.00   \n",
      "\n",
      "   dst_host_srv_diff_host_rate  dst_host_serror_rate  \\\n",
      "0                         0.00                  0.00   \n",
      "1                         0.00                  0.00   \n",
      "2                         0.00                  1.00   \n",
      "3                         0.04                  0.03   \n",
      "4                         0.00                  0.00   \n",
      "\n",
      "   dst_host_srv_serror_rate  dst_host_rerror_rate  dst_host_srv_rerror_rate  \\\n",
      "0                      0.00                  0.05                      0.00   \n",
      "1                      0.00                  0.00                      0.00   \n",
      "2                      1.00                  0.00                      0.00   \n",
      "3                      0.01                  0.00                      0.01   \n",
      "4                      0.00                  0.00                      0.00   \n",
      "\n",
      "   outcome  level  \n",
      "0   normal     20  \n",
      "1   normal     15  \n",
      "2  neptune     19  \n",
      "3   normal     21  \n",
      "4   normal     21  \n",
      "\n",
      "[5 rows x 43 columns]\n"
     ]
    }
   ],
   "source": [
    "print(data.head())"
   ]
  },
  {
   "cell_type": "code",
   "execution_count": 58,
   "id": "2fdc8cbe",
   "metadata": {},
   "outputs": [
    {
     "name": "stdout",
     "output_type": "stream",
     "text": [
      "<class 'pandas.core.frame.DataFrame'>\n",
      "RangeIndex: 125973 entries, 0 to 125972\n",
      "Data columns (total 43 columns):\n",
      " #   Column                       Non-Null Count   Dtype  \n",
      "---  ------                       --------------   -----  \n",
      " 0   duration                     125973 non-null  int64  \n",
      " 1   protocol_type                125973 non-null  object \n",
      " 2   service                      125973 non-null  object \n",
      " 3   flag                         125973 non-null  object \n",
      " 4   src_bytes                    125973 non-null  int64  \n",
      " 5   dst_bytes                    125973 non-null  int64  \n",
      " 6   land                         125973 non-null  int64  \n",
      " 7   wrong_fragment               125973 non-null  int64  \n",
      " 8   urgent                       125973 non-null  int64  \n",
      " 9   hot                          125973 non-null  int64  \n",
      " 10  num_failed_logins            125973 non-null  int64  \n",
      " 11  logged_in                    125973 non-null  int64  \n",
      " 12  num_compromised              125973 non-null  int64  \n",
      " 13  root_shell                   125973 non-null  int64  \n",
      " 14  su_attempted                 125973 non-null  int64  \n",
      " 15  num_root                     125973 non-null  int64  \n",
      " 16  num_file_creations           125973 non-null  int64  \n",
      " 17  num_shells                   125973 non-null  int64  \n",
      " 18  num_access_files             125973 non-null  int64  \n",
      " 19  num_outbound_cmds            125973 non-null  int64  \n",
      " 20  is_host_login                125973 non-null  int64  \n",
      " 21  is_guest_login               125973 non-null  int64  \n",
      " 22  count                        125973 non-null  int64  \n",
      " 23  srv_count                    125973 non-null  int64  \n",
      " 24  serror_rate                  125973 non-null  float64\n",
      " 25  srv_serror_rate              125973 non-null  float64\n",
      " 26  rerror_rate                  125973 non-null  float64\n",
      " 27  srv_rerror_rate              125973 non-null  float64\n",
      " 28  same_srv_rate                125973 non-null  float64\n",
      " 29  diff_srv_rate                125973 non-null  float64\n",
      " 30  srv_diff_host_rate           125973 non-null  float64\n",
      " 31  dst_host_count               125973 non-null  int64  \n",
      " 32  dst_host_srv_count           125973 non-null  int64  \n",
      " 33  dst_host_same_srv_rate       125973 non-null  float64\n",
      " 34  dst_host_diff_srv_rate       125973 non-null  float64\n",
      " 35  dst_host_same_src_port_rate  125973 non-null  float64\n",
      " 36  dst_host_srv_diff_host_rate  125973 non-null  float64\n",
      " 37  dst_host_serror_rate         125973 non-null  float64\n",
      " 38  dst_host_srv_serror_rate     125973 non-null  float64\n",
      " 39  dst_host_rerror_rate         125973 non-null  float64\n",
      " 40  dst_host_srv_rerror_rate     125973 non-null  float64\n",
      " 41  outcome                      125973 non-null  object \n",
      " 42  level                        125973 non-null  int64  \n",
      "dtypes: float64(15), int64(24), object(4)\n",
      "memory usage: 41.3+ MB\n",
      "None\n"
     ]
    }
   ],
   "source": [
    "print(data.info())\n"
   ]
  },
  {
   "cell_type": "code",
   "execution_count": 59,
   "id": "352709ec",
   "metadata": {},
   "outputs": [
    {
     "name": "stdout",
     "output_type": "stream",
     "text": [
      "            duration protocol_type service    flag     src_bytes  \\\n",
      "count   125973.00000        125973  125973  125973  1.259730e+05   \n",
      "unique           NaN             3      70      11           NaN   \n",
      "top              NaN           tcp    http      SF           NaN   \n",
      "freq             NaN        102689   40338   74945           NaN   \n",
      "mean       287.14465           NaN     NaN     NaN  4.556674e+04   \n",
      "std       2604.51531           NaN     NaN     NaN  5.870331e+06   \n",
      "min          0.00000           NaN     NaN     NaN  0.000000e+00   \n",
      "25%          0.00000           NaN     NaN     NaN  0.000000e+00   \n",
      "50%          0.00000           NaN     NaN     NaN  4.400000e+01   \n",
      "75%          0.00000           NaN     NaN     NaN  2.760000e+02   \n",
      "max      42908.00000           NaN     NaN     NaN  1.379964e+09   \n",
      "\n",
      "           dst_bytes           land  wrong_fragment         urgent  \\\n",
      "count   1.259730e+05  125973.000000   125973.000000  125973.000000   \n",
      "unique           NaN            NaN             NaN            NaN   \n",
      "top              NaN            NaN             NaN            NaN   \n",
      "freq             NaN            NaN             NaN            NaN   \n",
      "mean    1.977911e+04       0.000198        0.022687       0.000111   \n",
      "std     4.021269e+06       0.014086        0.253530       0.014366   \n",
      "min     0.000000e+00       0.000000        0.000000       0.000000   \n",
      "25%     0.000000e+00       0.000000        0.000000       0.000000   \n",
      "50%     0.000000e+00       0.000000        0.000000       0.000000   \n",
      "75%     5.160000e+02       0.000000        0.000000       0.000000   \n",
      "max     1.309937e+09       1.000000        3.000000       3.000000   \n",
      "\n",
      "                  hot  ...  dst_host_same_srv_rate  dst_host_diff_srv_rate  \\\n",
      "count   125973.000000  ...           125973.000000           125973.000000   \n",
      "unique            NaN  ...                     NaN                     NaN   \n",
      "top               NaN  ...                     NaN                     NaN   \n",
      "freq              NaN  ...                     NaN                     NaN   \n",
      "mean         0.204409  ...                0.521242                0.082951   \n",
      "std          2.149968  ...                0.448949                0.188922   \n",
      "min          0.000000  ...                0.000000                0.000000   \n",
      "25%          0.000000  ...                0.050000                0.000000   \n",
      "50%          0.000000  ...                0.510000                0.020000   \n",
      "75%          0.000000  ...                1.000000                0.070000   \n",
      "max         77.000000  ...                1.000000                1.000000   \n",
      "\n",
      "        dst_host_same_src_port_rate  dst_host_srv_diff_host_rate  \\\n",
      "count                 125973.000000                125973.000000   \n",
      "unique                          NaN                          NaN   \n",
      "top                             NaN                          NaN   \n",
      "freq                            NaN                          NaN   \n",
      "mean                       0.148379                     0.032542   \n",
      "std                        0.308997                     0.112564   \n",
      "min                        0.000000                     0.000000   \n",
      "25%                        0.000000                     0.000000   \n",
      "50%                        0.000000                     0.000000   \n",
      "75%                        0.060000                     0.020000   \n",
      "max                        1.000000                     1.000000   \n",
      "\n",
      "        dst_host_serror_rate  dst_host_srv_serror_rate  dst_host_rerror_rate  \\\n",
      "count          125973.000000             125973.000000         125973.000000   \n",
      "unique                   NaN                       NaN                   NaN   \n",
      "top                      NaN                       NaN                   NaN   \n",
      "freq                     NaN                       NaN                   NaN   \n",
      "mean                0.284452                  0.278485              0.118832   \n",
      "std                 0.444784                  0.445669              0.306557   \n",
      "min                 0.000000                  0.000000              0.000000   \n",
      "25%                 0.000000                  0.000000              0.000000   \n",
      "50%                 0.000000                  0.000000              0.000000   \n",
      "75%                 1.000000                  1.000000              0.000000   \n",
      "max                 1.000000                  1.000000              1.000000   \n",
      "\n",
      "        dst_host_srv_rerror_rate  outcome          level  \n",
      "count              125973.000000   125973  125973.000000  \n",
      "unique                       NaN       23            NaN  \n",
      "top                          NaN   normal            NaN  \n",
      "freq                         NaN    67343            NaN  \n",
      "mean                    0.120240      NaN      19.504060  \n",
      "std                     0.319459      NaN       2.291503  \n",
      "min                     0.000000      NaN       0.000000  \n",
      "25%                     0.000000      NaN      18.000000  \n",
      "50%                     0.000000      NaN      20.000000  \n",
      "75%                     0.000000      NaN      21.000000  \n",
      "max                     1.000000      NaN      21.000000  \n",
      "\n",
      "[11 rows x 43 columns]\n"
     ]
    }
   ],
   "source": [
    "print(data.describe(include='all'))"
   ]
  },
  {
   "cell_type": "code",
   "execution_count": 60,
   "id": "3ddf8e9f",
   "metadata": {},
   "outputs": [
    {
     "name": "stdout",
     "output_type": "stream",
     "text": [
      "\n",
      "Total rows: 125973, Unique attack types: 23\n",
      "Top 5 attack types:\n",
      " outcome\n",
      "normal       67343\n",
      "neptune      41214\n",
      "satan         3633\n",
      "ipsweep       3599\n",
      "portsweep     2931\n",
      "Name: count, dtype: int64\n"
     ]
    }
   ],
   "source": [
    "num_rows = data.shape[0]\n",
    "unique_labels = data['outcome'].nunique()\n",
    "top_5_attacks = data['outcome'].value_counts().head(5)\n",
    "print(f\"\\nTotal rows: {num_rows}, Unique attack types: {unique_labels}\")\n",
    "print(\"Top 5 attack types:\\n\", top_5_attacks)"
   ]
  },
  {
   "cell_type": "code",
   "execution_count": 61,
   "id": "0edc0c54",
   "metadata": {},
   "outputs": [
    {
     "data": {
      "image/png": "[encoded data removed]",
      "text/plain": [
       "<Figure size 1000x600 with 1 Axes>"
      ]
     },
     "metadata": {},
     "output_type": "display_data"
    }
   ],
   "source": [
    "plt.figure(figsize=(10, 6))\n",
    "data['outcome'].value_counts().plot(kind='bar', color='skyblue')\n",
    "plt.title(\"Distribution of Attack Types\")\n",
    "plt.xlabel(\"Attack Type\")\n",
    "plt.ylabel(\"Frequency\")\n",
    "plt.xticks(rotation=90)\n",
    "plt.tight_layout()\n",
    "plt.show()"
   ]
  },
  {
   "cell_type": "code",
   "execution_count": 62,
   "id": "2661c9bb",
   "metadata": {},
   "outputs": [
    {
     "name": "stdout",
     "output_type": "stream",
     "text": [
      "Categorical features: ['protocol_type', 'service', 'flag']\n",
      "Binary features: ['land', 'logged_in', 'is_host_login', 'is_guest_login', 'root_shell', 'su_attempted']\n",
      "Numerical features: ['duration', 'src_bytes', 'dst_bytes', 'wrong_fragment', 'urgent', 'hot', 'num_failed_logins', 'num_compromised', 'num_root', 'num_file_creations', 'num_shells', 'num_access_files', 'num_outbound_cmds', 'count', 'srv_count', 'serror_rate', 'srv_serror_rate', 'rerror_rate', 'srv_rerror_rate', 'same_srv_rate', 'diff_srv_rate', 'srv_diff_host_rate', 'dst_host_count', 'dst_host_srv_count', 'dst_host_same_srv_rate', 'dst_host_diff_srv_rate', 'dst_host_same_src_port_rate', 'dst_host_srv_diff_host_rate', 'dst_host_serror_rate', 'dst_host_srv_serror_rate', 'dst_host_rerror_rate', 'dst_host_srv_rerror_rate']\n"
     ]
    }
   ],
   "source": [
    "# Identify types\n",
    "categorical = ['protocol_type', 'service', 'flag']\n",
    "binary = ['land', 'logged_in', 'is_host_login', 'is_guest_login', 'root_shell', 'su_attempted']\n",
    "numerical = [col for col in columns if col not in (categorical + binary + ['outcome', 'level'])]\n",
    "print(\"Categorical features:\", categorical)\n",
    "print(\"Binary features:\", binary)\n",
    "print(\"Numerical features:\", numerical)"
   ]
  },
  {
   "cell_type": "code",
   "execution_count": 63,
   "id": "4bb55c9b",
   "metadata": {},
   "outputs": [
    {
     "name": "stdout",
     "output_type": "stream",
     "text": [
      "\n",
      "Missing values per column:\n",
      " duration                       0\n",
      "protocol_type                  0\n",
      "service                        0\n",
      "flag                           0\n",
      "src_bytes                      0\n",
      "dst_bytes                      0\n",
      "land                           0\n",
      "wrong_fragment                 0\n",
      "urgent                         0\n",
      "hot                            0\n",
      "num_failed_logins              0\n",
      "logged_in                      0\n",
      "num_compromised                0\n",
      "root_shell                     0\n",
      "su_attempted                   0\n",
      "num_root                       0\n",
      "num_file_creations             0\n",
      "num_shells                     0\n",
      "num_access_files               0\n",
      "num_outbound_cmds              0\n",
      "is_host_login                  0\n",
      "is_guest_login                 0\n",
      "count                          0\n",
      "srv_count                      0\n",
      "serror_rate                    0\n",
      "srv_serror_rate                0\n",
      "rerror_rate                    0\n",
      "srv_rerror_rate                0\n",
      "same_srv_rate                  0\n",
      "diff_srv_rate                  0\n",
      "srv_diff_host_rate             0\n",
      "dst_host_count                 0\n",
      "dst_host_srv_count             0\n",
      "dst_host_same_srv_rate         0\n",
      "dst_host_diff_srv_rate         0\n",
      "dst_host_same_src_port_rate    0\n",
      "dst_host_srv_diff_host_rate    0\n",
      "dst_host_serror_rate           0\n",
      "dst_host_srv_serror_rate       0\n",
      "dst_host_rerror_rate           0\n",
      "dst_host_srv_rerror_rate       0\n",
      "outcome                        0\n",
      "level                          0\n",
      "dtype: int64\n",
      "\n",
      "Number of duplicate rows: 0\n"
     ]
    }
   ],
   "source": [
    "# Check for missing values and duplicates\n",
    "print(\"\\nMissing values per column:\\n\", data.isnull().sum())\n",
    "print(\"\\nNumber of duplicate rows:\", data.duplicated().sum())"
   ]
  },
  {
   "cell_type": "code",
   "execution_count": 64,
   "id": "80316d48",
   "metadata": {},
   "outputs": [],
   "source": [
    "# There are no missing values and duplicates in this dataset\n",
    "# If there were missing values, we could handle them as follows:\n",
    "data=data.fillna(0)\n",
    "data=data.drop_duplicates()"
   ]
  },
  {
   "cell_type": "code",
   "execution_count": 65,
   "id": "23bfd617",
   "metadata": {},
   "outputs": [
    {
     "name": "stdout",
     "output_type": "stream",
     "text": [
      "\n",
      "Data after one-hot encoding:\n",
      "    duration  src_bytes  dst_bytes  land  wrong_fragment  urgent  hot  \\\n",
      "0         0        491          0     0               0       0    0   \n",
      "1         0        146          0     0               0       0    0   \n",
      "2         0          0          0     0               0       0    0   \n",
      "3         0        232       8153     0               0       0    0   \n",
      "4         0        199        420     0               0       0    0   \n",
      "\n",
      "   num_failed_logins  logged_in  num_compromised  ...  flag_REJ  flag_RSTO  \\\n",
      "0                  0          0                0  ...     False      False   \n",
      "1                  0          0                0  ...     False      False   \n",
      "2                  0          0                0  ...     False      False   \n",
      "3                  0          1                0  ...     False      False   \n",
      "4                  0          1                0  ...     False      False   \n",
      "\n",
      "   flag_RSTOS0  flag_RSTR  flag_S0  flag_S1  flag_S2  flag_S3  flag_SF  \\\n",
      "0        False      False    False    False    False    False     True   \n",
      "1        False      False    False    False    False    False     True   \n",
      "2        False      False     True    False    False    False    False   \n",
      "3        False      False    False    False    False    False     True   \n",
      "4        False      False    False    False    False    False     True   \n",
      "\n",
      "   flag_SH  \n",
      "0    False  \n",
      "1    False  \n",
      "2    False  \n",
      "3    False  \n",
      "4    False  \n",
      "\n",
      "[5 rows x 124 columns]\n"
     ]
    }
   ],
   "source": [
    "data=pd.get_dummies(data, columns=categorical)\n",
    "print(\"\\nData after one-hot encoding:\\n\", data.head())"
   ]
  },
  {
   "cell_type": "code",
   "execution_count": 70,
   "id": "fb131919",
   "metadata": {},
   "outputs": [
    {
     "name": "stdout",
     "output_type": "stream",
     "text": [
      "Encoded columns:\n",
      "   protocol_type_icmp  protocol_type_tcp  protocol_type_udp  service_IRC  \\\n",
      "0               False               True              False        False   \n",
      "1               False              False               True        False   \n",
      "2               False               True              False        False   \n",
      "3               False               True              False        False   \n",
      "4               False               True              False        False   \n",
      "\n",
      "   service_X11  service_Z39_50  service_aol  service_auth  service_bgp  \\\n",
      "0        False           False        False         False        False   \n",
      "1        False           False        False         False        False   \n",
      "2        False           False        False         False        False   \n",
      "3        False           False        False         False        False   \n",
      "4        False           False        False         False        False   \n",
      "\n",
      "   service_courier  ...  flag_REJ  flag_RSTO  flag_RSTOS0  flag_RSTR  flag_S0  \\\n",
      "0            False  ...     False      False        False      False    False   \n",
      "1            False  ...     False      False        False      False    False   \n",
      "2            False  ...     False      False        False      False     True   \n",
      "3            False  ...     False      False        False      False    False   \n",
      "4            False  ...     False      False        False      False    False   \n",
      "\n",
      "   flag_S1  flag_S2  flag_S3  flag_SF  flag_SH  \n",
      "0    False    False    False     True    False  \n",
      "1    False    False    False     True    False  \n",
      "2    False    False    False    False    False  \n",
      "3    False    False    False     True    False  \n",
      "4    False    False    False     True    False  \n",
      "\n",
      "[5 rows x 84 columns]\n"
     ]
    }
   ],
   "source": [
    "encoded_columns = [col for col in data.columns if col.startswith('protocol_type_') \n",
    "                   or col.startswith('service_') \n",
    "                   or col.startswith('flag_')]\n",
    "\n",
    "print(\"Encoded columns:\")\n",
    "print(data[encoded_columns].head())"
   ]
  },
  {
   "cell_type": "code",
   "execution_count": 71,
   "id": "52822f43",
   "metadata": {},
   "outputs": [
    {
     "name": "stdout",
     "output_type": "stream",
     "text": [
      "Data after normalization:\n",
      "    duration     src_bytes     dst_bytes  wrong_fragment  urgent  hot  \\\n",
      "0       0.0  3.558064e-07  0.000000e+00             0.0     0.0  0.0   \n",
      "1       0.0  1.057999e-07  0.000000e+00             0.0     0.0  0.0   \n",
      "2       0.0  0.000000e+00  0.000000e+00             0.0     0.0  0.0   \n",
      "3       0.0  1.681203e-07  6.223962e-06             0.0     0.0  0.0   \n",
      "4       0.0  1.442067e-07  3.206260e-07             0.0     0.0  0.0   \n",
      "\n",
      "   num_failed_logins  num_compromised  num_root  num_file_creations  ...  \\\n",
      "0                0.0              0.0       0.0                 0.0  ...   \n",
      "1                0.0              0.0       0.0                 0.0  ...   \n",
      "2                0.0              0.0       0.0                 0.0  ...   \n",
      "3                0.0              0.0       0.0                 0.0  ...   \n",
      "4                0.0              0.0       0.0                 0.0  ...   \n",
      "\n",
      "   dst_host_count  dst_host_srv_count  dst_host_same_srv_rate  \\\n",
      "0        0.588235            0.098039                    0.17   \n",
      "1        1.000000            0.003922                    0.00   \n",
      "2        1.000000            0.101961                    0.10   \n",
      "3        0.117647            1.000000                    1.00   \n",
      "4        1.000000            1.000000                    1.00   \n",
      "\n",
      "   dst_host_diff_srv_rate  dst_host_same_src_port_rate  \\\n",
      "0                    0.03                         0.17   \n",
      "1                    0.60                         0.88   \n",
      "2                    0.05                         0.00   \n",
      "3                    0.00                         0.03   \n",
      "4                    0.00                         0.00   \n",
      "\n",
      "   dst_host_srv_diff_host_rate  dst_host_serror_rate  \\\n",
      "0                         0.00                  0.00   \n",
      "1                         0.00                  0.00   \n",
      "2                         0.00                  1.00   \n",
      "3                         0.04                  0.03   \n",
      "4                         0.00                  0.00   \n",
      "\n",
      "   dst_host_srv_serror_rate  dst_host_rerror_rate  dst_host_srv_rerror_rate  \n",
      "0                      0.00                  0.05                      0.00  \n",
      "1                      0.00                  0.00                      0.00  \n",
      "2                      1.00                  0.00                      0.00  \n",
      "3                      0.01                  0.00                      0.01  \n",
      "4                      0.00                  0.00                      0.00  \n",
      "\n",
      "[5 rows x 32 columns]\n"
     ]
    }
   ],
   "source": [
    "scaler=MinMaxScaler()\n",
    "data[numerical]=scaler.fit_transform(data[numerical])\n",
    "numerical_data=data[numerical].head()\n",
    "print(\"Data after normalization:\\n\", numerical_data)"
   ]
  }
 ],
 "metadata": {
  "kernelspec": {
   "display_name": ".venv (3.13.2)",
   "language": "python",
   "name": "python3"
  },
  "language_info": {
   "codemirror_mode": {
    "name": "ipython",
    "version": 3
   },
   "file_extension": ".py",
   "mimetype": "text/x-python",
   "name": "python",
   "nbconvert_exporter": "python",
   "pygments_lexer": "ipython3",
   "version": "3.13.2"
  }
 },
 "nbformat": 4,
 "nbformat_minor": 5
}
