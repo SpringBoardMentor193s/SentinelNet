{
  "nbformat": 4,
  "nbformat_minor": 0,
  "metadata": {
    "colab": {
      "provenance": []
    },
    "kernelspec": {
      "name": "python3",
      "display_name": "Python 3"
    },
    "language_info": {
      "name": "python"
    }
  },
  "cells": [
    {
      "cell_type": "code",
      "source": [
        "import pandas as pd\n",
        "import numpy as np\n",
        "import seaborn as sns\n",
        "import matplotlib.pyplot as plt\n",
        "\n",
        "from sklearn.preprocessing import LabelEncoder"
      ],
      "metadata": {
        "id": "JljFJwc8Qs6e"
      },
      "execution_count": 4,
      "outputs": []
    },
    {
      "cell_type": "code",
      "source": [
        "sns.set(style=\"whitegrid\", palette=\"muted\", font_scale=1.1)"
      ],
      "metadata": {
        "id": "CayBDniGWQTX"
      },
      "execution_count": 5,
      "outputs": []
    },
    {
      "cell_type": "code",
      "source": [
        "from google.colab import files\n",
        "uploaded = files.upload()\n"
      ],
      "metadata": {
        "colab": {
          "base_uri": "https://localhost:8080/",
          "height": 73
        },
        "id": "5mrOFYMsWmWk",
        "outputId": "d8c41b7d-5dc7-459c-e218-cb1f4e53d457"
      },
      "execution_count": 6,
      "outputs": [
        {
          "output_type": "display_data",
          "data": {
            "text/plain": [
              "<IPython.core.display.HTML object>"
            ],
            "text/html": [
              "\n",
              "     <input type=\"file\" id=\"files-ed9de417-9998-4a1d-90df-f948f4cce476\" name=\"files[]\" multiple disabled\n",
              "        style=\"border:none\" />\n",
              "     <output id=\"result-ed9de417-9998-4a1d-90df-f948f4cce476\">\n",
              "      Upload widget is only available when the cell has been executed in the\n",
              "      current browser session. Please rerun this cell to enable.\n",
              "      </output>\n",
              "      <script>// Copyright 2017 Google LLC\n",
              "//\n",
              "// Licensed under the Apache License, Version 2.0 (the \"License\");\n",
              "// you may not use this file except in compliance with the License.\n",
              "// You may obtain a copy of the License at\n",
              "//\n",
              "//      http://www.apache.org/licenses/LICENSE-2.0\n",
              "//\n",
              "// Unless required by applicable law or agreed to in writing, software\n",
              "// distributed under the License is distributed on an \"AS IS\" BASIS,\n",
              "// WITHOUT WARRANTIES OR CONDITIONS OF ANY KIND, either express or implied.\n",
              "// See the License for the specific language governing permissions and\n",
              "// limitations under the License.\n",
              "\n",
              "/**\n",
              " * @fileoverview Helpers for google.colab Python module.\n",
              " */\n",
              "(function(scope) {\n",
              "function span(text, styleAttributes = {}) {\n",
              "  const element = document.createElement('span');\n",
              "  element.textContent = text;\n",
              "  for (const key of Object.keys(styleAttributes)) {\n",
              "    element.style[key] = styleAttributes[key];\n",
              "  }\n",
              "  return element;\n",
              "}\n",
              "\n",
              "// Max number of bytes which will be uploaded at a time.\n",
              "const MAX_PAYLOAD_SIZE = 100 * 1024;\n",
              "\n",
              "function _uploadFiles(inputId, outputId) {\n",
              "  const steps = uploadFilesStep(inputId, outputId);\n",
              "  const outputElement = document.getElementById(outputId);\n",
              "  // Cache steps on the outputElement to make it available for the next call\n",
              "  // to uploadFilesContinue from Python.\n",
              "  outputElement.steps = steps;\n",
              "\n",
              "  return _uploadFilesContinue(outputId);\n",
              "}\n",
              "\n",
              "// This is roughly an async generator (not supported in the browser yet),\n",
              "// where there are multiple asynchronous steps and the Python side is going\n",
              "// to poll for completion of each step.\n",
              "// This uses a Promise to block the python side on completion of each step,\n",
              "// then passes the result of the previous step as the input to the next step.\n",
              "function _uploadFilesContinue(outputId) {\n",
              "  const outputElement = document.getElementById(outputId);\n",
              "  const steps = outputElement.steps;\n",
              "\n",
              "  const next = steps.next(outputElement.lastPromiseValue);\n",
              "  return Promise.resolve(next.value.promise).then((value) => {\n",
              "    // Cache the last promise value to make it available to the next\n",
              "    // step of the generator.\n",
              "    outputElement.lastPromiseValue = value;\n",
              "    return next.value.response;\n",
              "  });\n",
              "}\n",
              "\n",
              "/**\n",
              " * Generator function which is called between each async step of the upload\n",
              " * process.\n",
              " * @param {string} inputId Element ID of the input file picker element.\n",
              " * @param {string} outputId Element ID of the output display.\n",
              " * @return {!Iterable<!Object>} Iterable of next steps.\n",
              " */\n",
              "function* uploadFilesStep(inputId, outputId) {\n",
              "  const inputElement = document.getElementById(inputId);\n",
              "  inputElement.disabled = false;\n",
              "\n",
              "  const outputElement = document.getElementById(outputId);\n",
              "  outputElement.innerHTML = '';\n",
              "\n",
              "  const pickedPromise = new Promise((resolve) => {\n",
              "    inputElement.addEventListener('change', (e) => {\n",
              "      resolve(e.target.files);\n",
              "    });\n",
              "  });\n",
              "\n",
              "  const cancel = document.createElement('button');\n",
              "  inputElement.parentElement.appendChild(cancel);\n",
              "  cancel.textContent = 'Cancel upload';\n",
              "  const cancelPromise = new Promise((resolve) => {\n",
              "    cancel.onclick = () => {\n",
              "      resolve(null);\n",
              "    };\n",
              "  });\n",
              "\n",
              "  // Wait for the user to pick the files.\n",
              "  const files = yield {\n",
              "    promise: Promise.race([pickedPromise, cancelPromise]),\n",
              "    response: {\n",
              "      action: 'starting',\n",
              "    }\n",
              "  };\n",
              "\n",
              "  cancel.remove();\n",
              "\n",
              "  // Disable the input element since further picks are not allowed.\n",
              "  inputElement.disabled = true;\n",
              "\n",
              "  if (!files) {\n",
              "    return {\n",
              "      response: {\n",
              "        action: 'complete',\n",
              "      }\n",
              "    };\n",
              "  }\n",
              "\n",
              "  for (const file of files) {\n",
              "    const li = document.createElement('li');\n",
              "    li.append(span(file.name, {fontWeight: 'bold'}));\n",
              "    li.append(span(\n",
              "        `(${file.type || 'n/a'}) - ${file.size} bytes, ` +\n",
              "        `last modified: ${\n",
              "            file.lastModifiedDate ? file.lastModifiedDate.toLocaleDateString() :\n",
              "                                    'n/a'} - `));\n",
              "    const percent = span('0% done');\n",
              "    li.appendChild(percent);\n",
              "\n",
              "    outputElement.appendChild(li);\n",
              "\n",
              "    const fileDataPromise = new Promise((resolve) => {\n",
              "      const reader = new FileReader();\n",
              "      reader.onload = (e) => {\n",
              "        resolve(e.target.result);\n",
              "      };\n",
              "      reader.readAsArrayBuffer(file);\n",
              "    });\n",
              "    // Wait for the data to be ready.\n",
              "    let fileData = yield {\n",
              "      promise: fileDataPromise,\n",
              "      response: {\n",
              "        action: 'continue',\n",
              "      }\n",
              "    };\n",
              "\n",
              "    // Use a chunked sending to avoid message size limits. See b/62115660.\n",
              "    let position = 0;\n",
              "    do {\n",
              "      const length = Math.min(fileData.byteLength - position, MAX_PAYLOAD_SIZE);\n",
              "      const chunk = new Uint8Array(fileData, position, length);\n",
              "      position += length;\n",
              "\n",
              "      const base64 = btoa(String.fromCharCode.apply(null, chunk));\n",
              "      yield {\n",
              "        response: {\n",
              "          action: 'append',\n",
              "          file: file.name,\n",
              "          data: base64,\n",
              "        },\n",
              "      };\n",
              "\n",
              "      let percentDone = fileData.byteLength === 0 ?\n",
              "          100 :\n",
              "          Math.round((position / fileData.byteLength) * 100);\n",
              "      percent.textContent = `${percentDone}% done`;\n",
              "\n",
              "    } while (position < fileData.byteLength);\n",
              "  }\n",
              "\n",
              "  // All done.\n",
              "  yield {\n",
              "    response: {\n",
              "      action: 'complete',\n",
              "    }\n",
              "  };\n",
              "}\n",
              "\n",
              "scope.google = scope.google || {};\n",
              "scope.google.colab = scope.google.colab || {};\n",
              "scope.google.colab._files = {\n",
              "  _uploadFiles,\n",
              "  _uploadFilesContinue,\n",
              "};\n",
              "})(self);\n",
              "</script> "
            ]
          },
          "metadata": {}
        },
        {
          "output_type": "stream",
          "name": "stdout",
          "text": [
            "Saving archive (3).zip to archive (3).zip\n"
          ]
        }
      ]
    },
    {
      "cell_type": "code",
      "source": [
        "from google.colab import drive\n",
        "drive.mount('/content/drive')\n"
      ],
      "metadata": {
        "colab": {
          "base_uri": "https://localhost:8080/"
        },
        "id": "Y93YDKVmbTpK",
        "outputId": "96013c39-bc73-4e1d-ebde-f2688c38c2a7"
      },
      "execution_count": 8,
      "outputs": [
        {
          "output_type": "stream",
          "name": "stdout",
          "text": [
            "Mounted at /content/drive\n"
          ]
        }
      ]
    },
    {
      "cell_type": "code",
      "source": [
        "!ls \"/content/drive/MyDrive/datasets/NSL-KDD\"\n",
        "!ls \"/content/drive/MyDrive/datasets/CICIDS\"\n"
      ],
      "metadata": {
        "colab": {
          "base_uri": "https://localhost:8080/"
        },
        "id": "RwzOnfoIbhq0",
        "outputId": "6e279a04-8909-4917-b36a-bbb165923c46"
      },
      "execution_count": 11,
      "outputs": [
        {
          "output_type": "stream",
          "name": "stdout",
          "text": [
            "index.html\t KDDTest-21.txt  KDDTrain1.jpg\t\t   KDDTrain+.arff\n",
            "KDDTest1.jpg\t KDDTest+.arff\t KDDTrain+_20Percent.arff  KDDTrain+.txt\n",
            "KDDTest-21.arff  KDDTest+.txt\t KDDTrain+_20Percent.txt   nsl-kdd\n",
            "Friday-WorkingHours-Afternoon-DDos.pcap_ISCX.csv\n",
            "Friday-WorkingHours-Afternoon-PortScan.pcap_ISCX.csv\n",
            "Friday-WorkingHours-Morning.pcap_ISCX.csv\n",
            "Monday-WorkingHours.pcap_ISCX.csv\n",
            "Thursday-WorkingHours-Afternoon-Infilteration.pcap_ISCX.csv\n",
            "Thursday-WorkingHours-Morning-WebAttacks.pcap_ISCX.csv\n",
            "Tuesday-WorkingHours.pcap_ISCX.csv\n",
            "Wednesday-workingHours.pcap_ISCX.csv\n"
          ]
        }
      ]
    },
    {
      "cell_type": "code",
      "source": [
        "import pandas as pd\n",
        "\n",
        "# NSL-KDD\n",
        "nsl_train = pd.read_csv(\"/content/drive/MyDrive/datasets/NSL-KDD/KDDTrain+.txt\", header=None)\n",
        "print(\"NSL-KDD Train shape:\", nsl_train.shape)\n",
        "\n",
        "# CICIDS (one file)\n",
        "cicids_ddos = pd.read_csv(\"/content/drive/MyDrive/datasets/CICIDS/Friday-WorkingHours-Afternoon-DDos.pcap_ISCX.csv\")\n",
        "print(\"CICIDS DDoS shape:\", cicids_ddos.shape)\n"
      ],
      "metadata": {
        "colab": {
          "base_uri": "https://localhost:8080/"
        },
        "id": "qTvQNIB9dAKC",
        "outputId": "a610d038-f9b0-42d3-b284-5e3379fc9a15"
      },
      "execution_count": 13,
      "outputs": [
        {
          "output_type": "stream",
          "name": "stdout",
          "text": [
            "NSL-KDD Train shape: (125973, 43)\n",
            "CICIDS DDoS shape: (225745, 79)\n"
          ]
        }
      ]
    },
    {
      "cell_type": "code",
      "source": [
        "print(\"\\n--- NSL-KDD Info ---\")\n",
        "print(nsl_train.info())\n",
        "\n",
        "print(\"\\n--- CICIDS Info ---\")\n",
        "print(cicids_ddos.info())"
      ],
      "metadata": {
        "colab": {
          "base_uri": "https://localhost:8080/"
        },
        "id": "UgcYtdrj3NKa",
        "outputId": "ed18b35c-2989-4294-b013-df73baa9c1e8"
      },
      "execution_count": 20,
      "outputs": [
        {
          "output_type": "stream",
          "name": "stdout",
          "text": [
            "\n",
            "--- NSL-KDD Info ---\n",
            "<class 'pandas.core.frame.DataFrame'>\n",
            "RangeIndex: 125973 entries, 0 to 125972\n",
            "Data columns (total 43 columns):\n",
            " #   Column                       Non-Null Count   Dtype  \n",
            "---  ------                       --------------   -----  \n",
            " 0   duration                     125973 non-null  int64  \n",
            " 1   protocol_type                125973 non-null  object \n",
            " 2   service                      125973 non-null  object \n",
            " 3   flag                         125973 non-null  object \n",
            " 4   src_bytes                    125973 non-null  int64  \n",
            " 5   dst_bytes                    125973 non-null  int64  \n",
            " 6   land                         125973 non-null  int64  \n",
            " 7   wrong_fragment               125973 non-null  int64  \n",
            " 8   urgent                       125973 non-null  int64  \n",
            " 9   hot                          125973 non-null  int64  \n",
            " 10  num_failed_logins            125973 non-null  int64  \n",
            " 11  logged_in                    125973 non-null  int64  \n",
            " 12  num_compromised              125973 non-null  int64  \n",
            " 13  root_shell                   125973 non-null  int64  \n",
            " 14  su_attempted                 125973 non-null  int64  \n",
            " 15  num_root                     125973 non-null  int64  \n",
            " 16  num_file_creations           125973 non-null  int64  \n",
            " 17  num_shells                   125973 non-null  int64  \n",
            " 18  num_access_files             125973 non-null  int64  \n",
            " 19  num_outbound_cmds            125973 non-null  int64  \n",
            " 20  is_host_login                125973 non-null  int64  \n",
            " 21  is_guest_login               125973 non-null  int64  \n",
            " 22  count                        125973 non-null  int64  \n",
            " 23  srv_count                    125973 non-null  int64  \n",
            " 24  serror_rate                  125973 non-null  float64\n",
            " 25  srv_serror_rate              125973 non-null  float64\n",
            " 26  rerror_rate                  125973 non-null  float64\n",
            " 27  srv_rerror_rate              125973 non-null  float64\n",
            " 28  same_srv_rate                125973 non-null  float64\n",
            " 29  diff_srv_rate                125973 non-null  float64\n",
            " 30  srv_diff_host_rate           125973 non-null  float64\n",
            " 31  dst_host_count               125973 non-null  int64  \n",
            " 32  dst_host_srv_count           125973 non-null  int64  \n",
            " 33  dst_host_same_srv_rate       125973 non-null  float64\n",
            " 34  dst_host_diff_srv_rate       125973 non-null  float64\n",
            " 35  dst_host_same_src_port_rate  125973 non-null  float64\n",
            " 36  dst_host_srv_diff_host_rate  125973 non-null  float64\n",
            " 37  dst_host_serror_rate         125973 non-null  float64\n",
            " 38  dst_host_srv_serror_rate     125973 non-null  float64\n",
            " 39  dst_host_rerror_rate         125973 non-null  float64\n",
            " 40  dst_host_srv_rerror_rate     125973 non-null  float64\n",
            " 41  outcome                      125973 non-null  object \n",
            " 42  level                        125973 non-null  int64  \n",
            "dtypes: float64(15), int64(24), object(4)\n",
            "memory usage: 41.3+ MB\n",
            "None\n",
            "\n",
            "--- CICIDS Info ---\n",
            "<class 'pandas.core.frame.DataFrame'>\n",
            "RangeIndex: 225745 entries, 0 to 225744\n",
            "Data columns (total 79 columns):\n",
            " #   Column                        Non-Null Count   Dtype  \n",
            "---  ------                        --------------   -----  \n",
            " 0    Destination Port             225745 non-null  int64  \n",
            " 1    Flow Duration                225745 non-null  int64  \n",
            " 2    Total Fwd Packets            225745 non-null  int64  \n",
            " 3    Total Backward Packets       225745 non-null  int64  \n",
            " 4   Total Length of Fwd Packets   225745 non-null  int64  \n",
            " 5    Total Length of Bwd Packets  225745 non-null  int64  \n",
            " 6    Fwd Packet Length Max        225745 non-null  int64  \n",
            " 7    Fwd Packet Length Min        225745 non-null  int64  \n",
            " 8    Fwd Packet Length Mean       225745 non-null  float64\n",
            " 9    Fwd Packet Length Std        225745 non-null  float64\n",
            " 10  Bwd Packet Length Max         225745 non-null  int64  \n",
            " 11   Bwd Packet Length Min        225745 non-null  int64  \n",
            " 12   Bwd Packet Length Mean       225745 non-null  float64\n",
            " 13   Bwd Packet Length Std        225745 non-null  float64\n",
            " 14  Flow Bytes/s                  225741 non-null  float64\n",
            " 15   Flow Packets/s               225745 non-null  float64\n",
            " 16   Flow IAT Mean                225745 non-null  float64\n",
            " 17   Flow IAT Std                 225745 non-null  float64\n",
            " 18   Flow IAT Max                 225745 non-null  int64  \n",
            " 19   Flow IAT Min                 225745 non-null  int64  \n",
            " 20  Fwd IAT Total                 225745 non-null  int64  \n",
            " 21   Fwd IAT Mean                 225745 non-null  float64\n",
            " 22   Fwd IAT Std                  225745 non-null  float64\n",
            " 23   Fwd IAT Max                  225745 non-null  int64  \n",
            " 24   Fwd IAT Min                  225745 non-null  int64  \n",
            " 25  Bwd IAT Total                 225745 non-null  int64  \n",
            " 26   Bwd IAT Mean                 225745 non-null  float64\n",
            " 27   Bwd IAT Std                  225745 non-null  float64\n",
            " 28   Bwd IAT Max                  225745 non-null  int64  \n",
            " 29   Bwd IAT Min                  225745 non-null  int64  \n",
            " 30  Fwd PSH Flags                 225745 non-null  int64  \n",
            " 31   Bwd PSH Flags                225745 non-null  int64  \n",
            " 32   Fwd URG Flags                225745 non-null  int64  \n",
            " 33   Bwd URG Flags                225745 non-null  int64  \n",
            " 34   Fwd Header Length            225745 non-null  int64  \n",
            " 35   Bwd Header Length            225745 non-null  int64  \n",
            " 36  Fwd Packets/s                 225745 non-null  float64\n",
            " 37   Bwd Packets/s                225745 non-null  float64\n",
            " 38   Min Packet Length            225745 non-null  int64  \n",
            " 39   Max Packet Length            225745 non-null  int64  \n",
            " 40   Packet Length Mean           225745 non-null  float64\n",
            " 41   Packet Length Std            225745 non-null  float64\n",
            " 42   Packet Length Variance       225745 non-null  float64\n",
            " 43  FIN Flag Count                225745 non-null  int64  \n",
            " 44   SYN Flag Count               225745 non-null  int64  \n",
            " 45   RST Flag Count               225745 non-null  int64  \n",
            " 46   PSH Flag Count               225745 non-null  int64  \n",
            " 47   ACK Flag Count               225745 non-null  int64  \n",
            " 48   URG Flag Count               225745 non-null  int64  \n",
            " 49   CWE Flag Count               225745 non-null  int64  \n",
            " 50   ECE Flag Count               225745 non-null  int64  \n",
            " 51   Down/Up Ratio                225745 non-null  int64  \n",
            " 52   Average Packet Size          225745 non-null  float64\n",
            " 53   Avg Fwd Segment Size         225745 non-null  float64\n",
            " 54   Avg Bwd Segment Size         225745 non-null  float64\n",
            " 55   Fwd Header Length.1          225745 non-null  int64  \n",
            " 56  Fwd Avg Bytes/Bulk            225745 non-null  int64  \n",
            " 57   Fwd Avg Packets/Bulk         225745 non-null  int64  \n",
            " 58   Fwd Avg Bulk Rate            225745 non-null  int64  \n",
            " 59   Bwd Avg Bytes/Bulk           225745 non-null  int64  \n",
            " 60   Bwd Avg Packets/Bulk         225745 non-null  int64  \n",
            " 61  Bwd Avg Bulk Rate             225745 non-null  int64  \n",
            " 62  Subflow Fwd Packets           225745 non-null  int64  \n",
            " 63   Subflow Fwd Bytes            225745 non-null  int64  \n",
            " 64   Subflow Bwd Packets          225745 non-null  int64  \n",
            " 65   Subflow Bwd Bytes            225745 non-null  int64  \n",
            " 66  Init_Win_bytes_forward        225745 non-null  int64  \n",
            " 67   Init_Win_bytes_backward      225745 non-null  int64  \n",
            " 68   act_data_pkt_fwd             225745 non-null  int64  \n",
            " 69   min_seg_size_forward         225745 non-null  int64  \n",
            " 70  Active Mean                   225745 non-null  float64\n",
            " 71   Active Std                   225745 non-null  float64\n",
            " 72   Active Max                   225745 non-null  int64  \n",
            " 73   Active Min                   225745 non-null  int64  \n",
            " 74  Idle Mean                     225745 non-null  float64\n",
            " 75   Idle Std                     225745 non-null  float64\n",
            " 76   Idle Max                     225745 non-null  int64  \n",
            " 77   Idle Min                     225745 non-null  int64  \n",
            " 78   Label                        225745 non-null  object \n",
            "dtypes: float64(24), int64(54), object(1)\n",
            "memory usage: 136.1+ MB\n",
            "None\n"
          ]
        }
      ]
    },
    {
      "cell_type": "code",
      "source": [
        "import pandas as pd\n",
        "\n",
        "# === NSL-KDD ===\n",
        "nsl_train = pd.read_csv(\"/content/drive/MyDrive/datasets/NSL-KDD/KDDTrain+.txt\", header=None)\n",
        "nsl_test  = pd.read_csv(\"/content/drive/MyDrive/datasets/NSL-KDD/KDDTest+.txt\", header=None)\n",
        "\n",
        "print(\"NSL-KDD Train shape:\", nsl_train.shape)\n",
        "print(\"NSL-KDD Test shape:\", nsl_test.shape)\n",
        "\n",
        "# === CICIDS (example: just load one CSV first) ===\n",
        "cicids_ddos = pd.read_csv(\"/content/drive/MyDrive/datasets/CICIDS/Friday-WorkingHours-Afternoon-DDos.pcap_ISCX.csv\")\n",
        "print(\"CICIDS DDoS shape:\", cicids_ddos.shape)\n"
      ],
      "metadata": {
        "colab": {
          "base_uri": "https://localhost:8080/"
        },
        "id": "gnY9AV1_dnxZ",
        "outputId": "60b374bb-bf51-401b-df5e-9b2e164e19be"
      },
      "execution_count": 15,
      "outputs": [
        {
          "output_type": "stream",
          "name": "stdout",
          "text": [
            "NSL-KDD Train shape: (125973, 43)\n",
            "NSL-KDD Test shape: (22544, 43)\n",
            "CICIDS DDoS shape: (225745, 79)\n"
          ]
        }
      ]
    },
    {
      "cell_type": "code",
      "source": [
        "nsl_columns= (['duration','protocol_type','service','flag','src_bytes','dst_bytes','land','wrong_fragment','urgent','hot'\n",
        ",'num_failed_logins','logged_in','num_compromised','root_shell','su_attempted','num_root','num_file_creations'\n",
        ",'num_shells','num_access_files','num_outbound_cmds','is_host_login','is_guest_login','count','srv_count','serror_rate'\n",
        ",'srv_serror_rate','rerror_rate','srv_rerror_rate','same_srv_rate','diff_srv_rate','srv_diff_host_rate','dst_host_count','dst_host_srv_count'\n",
        ",'dst_host_same_srv_rate','dst_host_diff_srv_rate','dst_host_same_src_port_rate','dst_host_srv_diff_host_rate','dst_host_serror_rate'\n",
        ",'dst_host_srv_serror_rate','dst_host_rerror_rate','dst_host_srv_rerror_rate','outcome','level'])\n",
        "nsl_train.columns = nsl_columns\n",
        "nsl_test.columns = nsl_columns\n",
        "\n",
        "print(nsl_train.head())"
      ],
      "metadata": {
        "colab": {
          "base_uri": "https://localhost:8080/"
        },
        "id": "CxUQ_XXkevO9",
        "outputId": "ac740c84-1067-4174-db64-13bcb5e76c0b"
      },
      "execution_count": 16,
      "outputs": [
        {
          "output_type": "stream",
          "name": "stdout",
          "text": [
            "   duration protocol_type   service flag  src_bytes  dst_bytes  land  \\\n",
            "0         0           tcp  ftp_data   SF        491          0     0   \n",
            "1         0           udp     other   SF        146          0     0   \n",
            "2         0           tcp   private   S0          0          0     0   \n",
            "3         0           tcp      http   SF        232       8153     0   \n",
            "4         0           tcp      http   SF        199        420     0   \n",
            "\n",
            "   wrong_fragment  urgent  hot  ...  dst_host_same_srv_rate  \\\n",
            "0               0       0    0  ...                    0.17   \n",
            "1               0       0    0  ...                    0.00   \n",
            "2               0       0    0  ...                    0.10   \n",
            "3               0       0    0  ...                    1.00   \n",
            "4               0       0    0  ...                    1.00   \n",
            "\n",
            "   dst_host_diff_srv_rate  dst_host_same_src_port_rate  \\\n",
            "0                    0.03                         0.17   \n",
            "1                    0.60                         0.88   \n",
            "2                    0.05                         0.00   \n",
            "3                    0.00                         0.03   \n",
            "4                    0.00                         0.00   \n",
            "\n",
            "   dst_host_srv_diff_host_rate  dst_host_serror_rate  \\\n",
            "0                         0.00                  0.00   \n",
            "1                         0.00                  0.00   \n",
            "2                         0.00                  1.00   \n",
            "3                         0.04                  0.03   \n",
            "4                         0.00                  0.00   \n",
            "\n",
            "   dst_host_srv_serror_rate  dst_host_rerror_rate  dst_host_srv_rerror_rate  \\\n",
            "0                      0.00                  0.05                      0.00   \n",
            "1                      0.00                  0.00                      0.00   \n",
            "2                      1.00                  0.00                      0.00   \n",
            "3                      0.01                  0.00                      0.01   \n",
            "4                      0.00                  0.00                      0.00   \n",
            "\n",
            "   outcome  level  \n",
            "0   normal     20  \n",
            "1   normal     15  \n",
            "2  neptune     19  \n",
            "3   normal     21  \n",
            "4   normal     21  \n",
            "\n",
            "[5 rows x 43 columns]\n"
          ]
        }
      ]
    },
    {
      "cell_type": "code",
      "source": [
        "def dataset_overview(df, name=\"Dataset\"):\n",
        "    print(f\"\\n===== {name} Overview =====\")\n",
        "    print(\"Shape:\", df.shape)\n",
        "    print(\"Columns:\", df.columns[:10], \"...\" if len(df.columns) > 10 else \"\")\n",
        "    print(\"\\nData types:\\n\", df.dtypes.head())\n",
        "    print(\"\\nMissing values:\\n\", df.isnull().sum().head())\n",
        "    print(\"\\nClass distribution:\\n\", df.iloc[:, -1].value_counts().head(10))\n",
        "\n",
        "dataset_overview(nsl_train, \"NSL-KDD Train\")\n",
        "dataset_overview(cicids_ddos, \"CICIDS DDoS Sample\")\n"
      ],
      "metadata": {
        "colab": {
          "base_uri": "https://localhost:8080/"
        },
        "id": "ymKZAZcHfkxj",
        "outputId": "906e1c18-3efb-40cb-d4e6-dddcdba79b50"
      },
      "execution_count": 17,
      "outputs": [
        {
          "output_type": "stream",
          "name": "stdout",
          "text": [
            "\n",
            "===== NSL-KDD Train Overview =====\n",
            "Shape: (125973, 43)\n",
            "Columns: Index(['duration', 'protocol_type', 'service', 'flag', 'src_bytes',\n",
            "       'dst_bytes', 'land', 'wrong_fragment', 'urgent', 'hot'],\n",
            "      dtype='object') ...\n",
            "\n",
            "Data types:\n",
            " duration          int64\n",
            "protocol_type    object\n",
            "service          object\n",
            "flag             object\n",
            "src_bytes         int64\n",
            "dtype: object\n",
            "\n",
            "Missing values:\n",
            " duration         0\n",
            "protocol_type    0\n",
            "service          0\n",
            "flag             0\n",
            "src_bytes        0\n",
            "dtype: int64\n",
            "\n",
            "Class distribution:\n",
            " level\n",
            "21    62557\n",
            "18    20667\n",
            "20    19339\n",
            "19    10284\n",
            "15     3990\n",
            "17     3074\n",
            "16     2393\n",
            "12      729\n",
            "14      674\n",
            "11      641\n",
            "Name: count, dtype: int64\n",
            "\n",
            "===== CICIDS DDoS Sample Overview =====\n",
            "Shape: (225745, 79)\n",
            "Columns: Index([' Destination Port', ' Flow Duration', ' Total Fwd Packets',\n",
            "       ' Total Backward Packets', 'Total Length of Fwd Packets',\n",
            "       ' Total Length of Bwd Packets', ' Fwd Packet Length Max',\n",
            "       ' Fwd Packet Length Min', ' Fwd Packet Length Mean',\n",
            "       ' Fwd Packet Length Std'],\n",
            "      dtype='object') ...\n",
            "\n",
            "Data types:\n",
            "  Destination Port              int64\n",
            " Flow Duration                 int64\n",
            " Total Fwd Packets             int64\n",
            " Total Backward Packets        int64\n",
            "Total Length of Fwd Packets    int64\n",
            "dtype: object\n",
            "\n",
            "Missing values:\n",
            "  Destination Port              0\n",
            " Flow Duration                 0\n",
            " Total Fwd Packets             0\n",
            " Total Backward Packets        0\n",
            "Total Length of Fwd Packets    0\n",
            "dtype: int64\n",
            "\n",
            "Class distribution:\n",
            "  Label\n",
            "DDoS      128027\n",
            "BENIGN     97718\n",
            "Name: count, dtype: int64\n"
          ]
        }
      ]
    },
    {
      "cell_type": "code",
      "source": [
        "import matplotlib.pyplot as plt\n",
        "import seaborn as sns\n",
        "\n",
        "def plot_class_distribution(df, label_col, title):\n",
        "    plt.figure(figsize=(8,4))\n",
        "    df[label_col].value_counts().plot(kind='bar')\n",
        "    plt.title(title)\n",
        "    plt.ylabel(\"Count\")\n",
        "    plt.xlabel(\"Class\")\n",
        "    plt.show()\n",
        "\n",
        "plot_class_distribution(nsl_train, \"level\", \"NSL-KDD Class Distribution\")\n",
        "plot_class_distribution(cicids_ddos, cicids_ddos.columns[-1], \"CICIDS Class Distribution (DDoS sample)\")\n"
      ],
      "metadata": {
        "colab": {
          "base_uri": "https://localhost:8080/",
          "height": 876
        },
        "id": "nVrOVUQFfm38",
        "outputId": "d5500855-d353-41fa-fcd6-23c801e770d8"
      },
      "execution_count": 19,
      "outputs": [
        {
          "output_type": "display_data",
          "data": {
            "text/plain": [
              "<Figure size 800x400 with 1 Axes>"
            ],
            "image/png": "[encoded data removed]"
          },
          "metadata": {}
        },
        {
          "output_type": "display_data",
          "data": {
            "text/plain": [
              "<Figure size 800x400 with 1 Axes>"
            ],
            "image/png": "[encoded data removed]"
          },
          "metadata": {}
        }
      ]
    },
    {
      "cell_type": "code",
      "source": [
        "print(\"===== NSL-KDD Dataset Summary =====\")\n",
        "print(\"Number of rows:\", len(nsl_train))\n",
        "print(\"Number of unique labels:\", nsl_train['level'].nunique())\n",
        "print(\"\\nTop 5 frequent attack types:\")\n",
        "print(nsl_train['level'].value_counts().head(5))"
      ],
      "metadata": {
        "colab": {
          "base_uri": "https://localhost:8080/"
        },
        "id": "77aLOVyA3Hr2",
        "outputId": "8bcdb630-a78f-4a11-ab5c-1b6e2fb8147b"
      },
      "execution_count": 24,
      "outputs": [
        {
          "output_type": "stream",
          "name": "stdout",
          "text": [
            "===== NSL-KDD Dataset Summary =====\n",
            "Number of rows: 125973\n",
            "Number of unique labels: 22\n",
            "\n",
            "Top 5 frequent attack types:\n",
            "level\n",
            "21    62557\n",
            "18    20667\n",
            "20    19339\n",
            "19    10284\n",
            "15     3990\n",
            "Name: count, dtype: int64\n"
          ]
        }
      ]
    },
    {
      "cell_type": "code",
      "source": [
        "plt.figure(figsize=(10,5))\n",
        "nsl_train['level'].value_counts().head(10).plot(kind='bar')\n",
        "plt.title(\"Top 10 Frequent Attack Types (NSL-KDD)\")\n",
        "plt.xlabel(\"Attack Type\")\n",
        "plt.ylabel(\"Count\")\n",
        "plt.show()"
      ],
      "metadata": {
        "colab": {
          "base_uri": "https://localhost:8080/",
          "height": 502
        },
        "id": "T11PTqkE3_IG",
        "outputId": "54fb1759-f49b-4695-a86a-717cf3aa04fd"
      },
      "execution_count": 26,
      "outputs": [
        {
          "output_type": "display_data",
          "data": {
            "text/plain": [
              "<Figure size 1000x500 with 1 Axes>"
            ],
            "image/png": "[encoded data removed]"
          },
          "metadata": {}
        }
      ]
    },
    {
      "cell_type": "code",
      "source": [],
      "metadata": {
        "id": "vg1j53sS4GrA"
      },
      "execution_count": null,
      "outputs": []
    }
  ]
}